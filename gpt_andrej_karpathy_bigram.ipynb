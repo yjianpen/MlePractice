{
  "nbformat": 4,
  "nbformat_minor": 0,
  "metadata": {
    "colab": {
      "provenance": [],
      "authorship_tag": "ABX9TyOBmWVZsGEVFcD1G5p/WOHO",
      "include_colab_link": true
    },
    "kernelspec": {
      "name": "python3",
      "display_name": "Python 3"
    },
    "language_info": {
      "name": "python"
    }
  },
  "cells": [
    {
      "cell_type": "markdown",
      "metadata": {
        "id": "view-in-github",
        "colab_type": "text"
      },
      "source": [
        "<a href=\"https://colab.research.google.com/github/yjianpen/MlePractice/blob/main/gpt_andrej_karpathy_bigram.ipynb\" target=\"_parent\"><img src=\"https://colab.research.google.com/assets/colab-badge.svg\" alt=\"Open In Colab\"/></a>"
      ]
    },
    {
      "cell_type": "code",
      "execution_count": 2,
      "metadata": {
        "colab": {
          "base_uri": "https://localhost:8080/"
        },
        "id": "03OWOd4uU3ry",
        "outputId": "942f2d22-f756-4a31-cdf7-4c39cb77f416"
      },
      "outputs": [
        {
          "output_type": "stream",
          "name": "stdout",
          "text": [
            "--2025-07-05 20:44:27--  https://raw.githubusercontent.com/karpathy/char-rnn/master/data/tinyshakespeare/input.txt\n",
            "Resolving raw.githubusercontent.com (raw.githubusercontent.com)... 185.199.111.133, 185.199.110.133, 185.199.109.133, ...\n",
            "Connecting to raw.githubusercontent.com (raw.githubusercontent.com)|185.199.111.133|:443... connected.\n",
            "HTTP request sent, awaiting response... 200 OK\n",
            "Length: 1115394 (1.1M) [text/plain]\n",
            "Saving to: ‘input.txt’\n",
            "\n",
            "input.txt           100%[===================>]   1.06M  --.-KB/s    in 0.04s   \n",
            "\n",
            "2025-07-05 20:44:27 (26.5 MB/s) - ‘input.txt’ saved [1115394/1115394]\n",
            "\n"
          ]
        }
      ],
      "source": [
        "## Let's start with a dataset called \"tiny shakespear\" for training\n",
        "!wget https://raw.githubusercontent.com/karpathy/char-rnn/master/data/tinyshakespeare/input.txt"
      ]
    },
    {
      "cell_type": "code",
      "source": [
        "# read it in to inspect it\n",
        "with open('input.txt', 'r', encoding='utf-8') as f:\n",
        "    text= f.read()\n",
        ""
      ],
      "metadata": {
        "id": "XxZghsPtU__i"
      },
      "execution_count": 3,
      "outputs": []
    },
    {
      "cell_type": "code",
      "source": [
        "print(f\"length of dataset in characters, len(text): {len(text)}\")"
      ],
      "metadata": {
        "colab": {
          "base_uri": "https://localhost:8080/"
        },
        "id": "VMVJkhIsVksw",
        "outputId": "9b8816af-b75c-475b-b5eb-61931fae428f"
      },
      "execution_count": 4,
      "outputs": [
        {
          "output_type": "stream",
          "name": "stdout",
          "text": [
            "length of dataset in characters, len(text): 1115394\n"
          ]
        }
      ]
    },
    {
      "cell_type": "code",
      "source": [
        "# let's look at the first 1000 characters\n",
        "print(text[:1000])"
      ],
      "metadata": {
        "colab": {
          "base_uri": "https://localhost:8080/"
        },
        "id": "fYiXL_FBV2w9",
        "outputId": "5f061c55-0c47-4ea9-d4be-9d9a19a61611"
      },
      "execution_count": 5,
      "outputs": [
        {
          "output_type": "stream",
          "name": "stdout",
          "text": [
            "First Citizen:\n",
            "Before we proceed any further, hear me speak.\n",
            "\n",
            "All:\n",
            "Speak, speak.\n",
            "\n",
            "First Citizen:\n",
            "You are all resolved rather to die than to famish?\n",
            "\n",
            "All:\n",
            "Resolved. resolved.\n",
            "\n",
            "First Citizen:\n",
            "First, you know Caius Marcius is chief enemy to the people.\n",
            "\n",
            "All:\n",
            "We know't, we know't.\n",
            "\n",
            "First Citizen:\n",
            "Let us kill him, and we'll have corn at our own price.\n",
            "Is't a verdict?\n",
            "\n",
            "All:\n",
            "No more talking on't; let it be done: away, away!\n",
            "\n",
            "Second Citizen:\n",
            "One word, good citizens.\n",
            "\n",
            "First Citizen:\n",
            "We are accounted poor citizens, the patricians good.\n",
            "What authority surfeits on would relieve us: if they\n",
            "would yield us but the superfluity, while it were\n",
            "wholesome, we might guess they relieved us humanely;\n",
            "but they think we are too dear: the leanness that\n",
            "afflicts us, the object of our misery, is as an\n",
            "inventory to particularise their abundance; our\n",
            "sufferance is a gain to them Let us revenge this with\n",
            "our pikes, ere we become rakes: for the gods know I\n",
            "speak this in hunger for bread, not in thirst for revenge.\n",
            "\n",
            "\n"
          ]
        }
      ]
    },
    {
      "cell_type": "code",
      "source": [
        "# herer are all the unique chars that occur in this text\n",
        "\n",
        "chars = sorted(list(set(text)))\n",
        "vocab_size = len(chars)\n",
        "print(''.join(chars))\n",
        "print(vocab_size)"
      ],
      "metadata": {
        "colab": {
          "base_uri": "https://localhost:8080/"
        },
        "id": "IMJ1WK80V-h8",
        "outputId": "af7b0cae-7c4a-415e-c862-7f4ee77f0758"
      },
      "execution_count": 6,
      "outputs": [
        {
          "output_type": "stream",
          "name": "stdout",
          "text": [
            "\n",
            " !$&',-.3:;?ABCDEFGHIJKLMNOPQRSTUVWXYZabcdefghijklmnopqrstuvwxyz\n",
            "65\n"
          ]
        }
      ]
    },
    {
      "cell_type": "code",
      "source": [
        "## tokenize input texts, translating strings into numbers\n",
        "stoi = {ch:i for i,ch in enumerate(chars)}\n",
        "itos = {i:ch for i,ch in enumerate(chars)}\n",
        "\n",
        "encode = lambda s: [stoi[c] for c in s]\n",
        "decode = lambda l: ''.join([itos[i] for i in l])\n",
        "\n",
        "print(encode(\"hii there\"))\n",
        "print(decode(encode(\"hii there\")))\n",
        "## there are many other tokenizers such as tiktok from oai, sentencepiece from google\n",
        "## ideally, if we add a constant to all encoded integers, our model should not change (called gauge property)"
      ],
      "metadata": {
        "colab": {
          "base_uri": "https://localhost:8080/"
        },
        "id": "ZEvf_ibAWglX",
        "outputId": "d8e82f57-cdf8-4c8d-edb1-20ace8099d34"
      },
      "execution_count": 28,
      "outputs": [
        {
          "output_type": "stream",
          "name": "stdout",
          "text": [
            "[46, 47, 47, 1, 58, 46, 43, 56, 43]\n",
            "hii there\n"
          ]
        }
      ]
    },
    {
      "cell_type": "code",
      "source": [
        "## let's encode the entire text dataset and store it into a torch.tensor\n",
        "import torch\n",
        "data = torch.tensor(encode(text), dtype=torch.long)\n",
        "print(data.shape, data.dtype)\n",
        "print(data[:1000])"
      ],
      "metadata": {
        "colab": {
          "base_uri": "https://localhost:8080/"
        },
        "id": "iLa4B02hXzqN",
        "outputId": "8c7faaea-9b90-4ed6-9e3e-4bcbe69a707c"
      },
      "execution_count": 8,
      "outputs": [
        {
          "output_type": "stream",
          "name": "stdout",
          "text": [
            "torch.Size([1115394]) torch.int64\n",
            "tensor([18, 47, 56, 57, 58,  1, 15, 47, 58, 47, 64, 43, 52, 10,  0, 14, 43, 44,\n",
            "        53, 56, 43,  1, 61, 43,  1, 54, 56, 53, 41, 43, 43, 42,  1, 39, 52, 63,\n",
            "         1, 44, 59, 56, 58, 46, 43, 56,  6,  1, 46, 43, 39, 56,  1, 51, 43,  1,\n",
            "        57, 54, 43, 39, 49,  8,  0,  0, 13, 50, 50, 10,  0, 31, 54, 43, 39, 49,\n",
            "         6,  1, 57, 54, 43, 39, 49,  8,  0,  0, 18, 47, 56, 57, 58,  1, 15, 47,\n",
            "        58, 47, 64, 43, 52, 10,  0, 37, 53, 59,  1, 39, 56, 43,  1, 39, 50, 50,\n",
            "         1, 56, 43, 57, 53, 50, 60, 43, 42,  1, 56, 39, 58, 46, 43, 56,  1, 58,\n",
            "        53,  1, 42, 47, 43,  1, 58, 46, 39, 52,  1, 58, 53,  1, 44, 39, 51, 47,\n",
            "        57, 46, 12,  0,  0, 13, 50, 50, 10,  0, 30, 43, 57, 53, 50, 60, 43, 42,\n",
            "         8,  1, 56, 43, 57, 53, 50, 60, 43, 42,  8,  0,  0, 18, 47, 56, 57, 58,\n",
            "         1, 15, 47, 58, 47, 64, 43, 52, 10,  0, 18, 47, 56, 57, 58,  6,  1, 63,\n",
            "        53, 59,  1, 49, 52, 53, 61,  1, 15, 39, 47, 59, 57,  1, 25, 39, 56, 41,\n",
            "        47, 59, 57,  1, 47, 57,  1, 41, 46, 47, 43, 44,  1, 43, 52, 43, 51, 63,\n",
            "         1, 58, 53,  1, 58, 46, 43,  1, 54, 43, 53, 54, 50, 43,  8,  0,  0, 13,\n",
            "        50, 50, 10,  0, 35, 43,  1, 49, 52, 53, 61,  5, 58,  6,  1, 61, 43,  1,\n",
            "        49, 52, 53, 61,  5, 58,  8,  0,  0, 18, 47, 56, 57, 58,  1, 15, 47, 58,\n",
            "        47, 64, 43, 52, 10,  0, 24, 43, 58,  1, 59, 57,  1, 49, 47, 50, 50,  1,\n",
            "        46, 47, 51,  6,  1, 39, 52, 42,  1, 61, 43,  5, 50, 50,  1, 46, 39, 60,\n",
            "        43,  1, 41, 53, 56, 52,  1, 39, 58,  1, 53, 59, 56,  1, 53, 61, 52,  1,\n",
            "        54, 56, 47, 41, 43,  8,  0, 21, 57,  5, 58,  1, 39,  1, 60, 43, 56, 42,\n",
            "        47, 41, 58, 12,  0,  0, 13, 50, 50, 10,  0, 26, 53,  1, 51, 53, 56, 43,\n",
            "         1, 58, 39, 50, 49, 47, 52, 45,  1, 53, 52,  5, 58, 11,  1, 50, 43, 58,\n",
            "         1, 47, 58,  1, 40, 43,  1, 42, 53, 52, 43, 10,  1, 39, 61, 39, 63,  6,\n",
            "         1, 39, 61, 39, 63,  2,  0,  0, 31, 43, 41, 53, 52, 42,  1, 15, 47, 58,\n",
            "        47, 64, 43, 52, 10,  0, 27, 52, 43,  1, 61, 53, 56, 42,  6,  1, 45, 53,\n",
            "        53, 42,  1, 41, 47, 58, 47, 64, 43, 52, 57,  8,  0,  0, 18, 47, 56, 57,\n",
            "        58,  1, 15, 47, 58, 47, 64, 43, 52, 10,  0, 35, 43,  1, 39, 56, 43,  1,\n",
            "        39, 41, 41, 53, 59, 52, 58, 43, 42,  1, 54, 53, 53, 56,  1, 41, 47, 58,\n",
            "        47, 64, 43, 52, 57,  6,  1, 58, 46, 43,  1, 54, 39, 58, 56, 47, 41, 47,\n",
            "        39, 52, 57,  1, 45, 53, 53, 42,  8,  0, 35, 46, 39, 58,  1, 39, 59, 58,\n",
            "        46, 53, 56, 47, 58, 63,  1, 57, 59, 56, 44, 43, 47, 58, 57,  1, 53, 52,\n",
            "         1, 61, 53, 59, 50, 42,  1, 56, 43, 50, 47, 43, 60, 43,  1, 59, 57, 10,\n",
            "         1, 47, 44,  1, 58, 46, 43, 63,  0, 61, 53, 59, 50, 42,  1, 63, 47, 43,\n",
            "        50, 42,  1, 59, 57,  1, 40, 59, 58,  1, 58, 46, 43,  1, 57, 59, 54, 43,\n",
            "        56, 44, 50, 59, 47, 58, 63,  6,  1, 61, 46, 47, 50, 43,  1, 47, 58,  1,\n",
            "        61, 43, 56, 43,  0, 61, 46, 53, 50, 43, 57, 53, 51, 43,  6,  1, 61, 43,\n",
            "         1, 51, 47, 45, 46, 58,  1, 45, 59, 43, 57, 57,  1, 58, 46, 43, 63,  1,\n",
            "        56, 43, 50, 47, 43, 60, 43, 42,  1, 59, 57,  1, 46, 59, 51, 39, 52, 43,\n",
            "        50, 63, 11,  0, 40, 59, 58,  1, 58, 46, 43, 63,  1, 58, 46, 47, 52, 49,\n",
            "         1, 61, 43,  1, 39, 56, 43,  1, 58, 53, 53,  1, 42, 43, 39, 56, 10,  1,\n",
            "        58, 46, 43,  1, 50, 43, 39, 52, 52, 43, 57, 57,  1, 58, 46, 39, 58,  0,\n",
            "        39, 44, 44, 50, 47, 41, 58, 57,  1, 59, 57,  6,  1, 58, 46, 43,  1, 53,\n",
            "        40, 48, 43, 41, 58,  1, 53, 44,  1, 53, 59, 56,  1, 51, 47, 57, 43, 56,\n",
            "        63,  6,  1, 47, 57,  1, 39, 57,  1, 39, 52,  0, 47, 52, 60, 43, 52, 58,\n",
            "        53, 56, 63,  1, 58, 53,  1, 54, 39, 56, 58, 47, 41, 59, 50, 39, 56, 47,\n",
            "        57, 43,  1, 58, 46, 43, 47, 56,  1, 39, 40, 59, 52, 42, 39, 52, 41, 43,\n",
            "        11,  1, 53, 59, 56,  0, 57, 59, 44, 44, 43, 56, 39, 52, 41, 43,  1, 47,\n",
            "        57,  1, 39,  1, 45, 39, 47, 52,  1, 58, 53,  1, 58, 46, 43, 51,  1, 24,\n",
            "        43, 58,  1, 59, 57,  1, 56, 43, 60, 43, 52, 45, 43,  1, 58, 46, 47, 57,\n",
            "         1, 61, 47, 58, 46,  0, 53, 59, 56,  1, 54, 47, 49, 43, 57,  6,  1, 43,\n",
            "        56, 43,  1, 61, 43,  1, 40, 43, 41, 53, 51, 43,  1, 56, 39, 49, 43, 57,\n",
            "        10,  1, 44, 53, 56,  1, 58, 46, 43,  1, 45, 53, 42, 57,  1, 49, 52, 53,\n",
            "        61,  1, 21,  0, 57, 54, 43, 39, 49,  1, 58, 46, 47, 57,  1, 47, 52,  1,\n",
            "        46, 59, 52, 45, 43, 56,  1, 44, 53, 56,  1, 40, 56, 43, 39, 42,  6,  1,\n",
            "        52, 53, 58,  1, 47, 52,  1, 58, 46, 47, 56, 57, 58,  1, 44, 53, 56,  1,\n",
            "        56, 43, 60, 43, 52, 45, 43,  8,  0,  0])\n"
          ]
        }
      ]
    },
    {
      "cell_type": "code",
      "source": [
        "## split our data into train set and val set\n",
        "n = int(0.9*len(data)) ## first 90% training\n",
        "train_data = data[:n]\n",
        "val_data = data[n:]"
      ],
      "metadata": {
        "id": "lDmO6cgYY8Q8"
      },
      "execution_count": 10,
      "outputs": []
    },
    {
      "cell_type": "code",
      "source": [
        "## train the transformer one chunk per time, split training data into chunks\n",
        "\n",
        "block_size = 8\n",
        "train_data[:block_size + 1]"
      ],
      "metadata": {
        "colab": {
          "base_uri": "https://localhost:8080/"
        },
        "id": "3aGvDlVWaF_4",
        "outputId": "9ec40651-7767-4088-f0de-8899afceaa7a"
      },
      "execution_count": 11,
      "outputs": [
        {
          "output_type": "execute_result",
          "data": {
            "text/plain": [
              "tensor([18, 47, 56, 57, 58,  1, 15, 47, 58])"
            ]
          },
          "metadata": {},
          "execution_count": 11
        }
      ]
    },
    {
      "cell_type": "code",
      "source": [
        "x =train_data[:block_size]\n",
        "y = train_data[1:block_size+1]\n",
        "for t in range(block_size):\n",
        "  context = x[:t+1]\n",
        "  target = y[t]\n",
        "  print(f\"when input is {context}, the next token target is {target}\")"
      ],
      "metadata": {
        "colab": {
          "base_uri": "https://localhost:8080/"
        },
        "id": "wdbQvIacak6C",
        "outputId": "889a83cb-0dd7-427f-e738-8e7d8e41a3b5"
      },
      "execution_count": 12,
      "outputs": [
        {
          "output_type": "stream",
          "name": "stdout",
          "text": [
            "when input is tensor([18]), the next token target is 47\n",
            "when input is tensor([18, 47]), the next token target is 56\n",
            "when input is tensor([18, 47, 56]), the next token target is 57\n",
            "when input is tensor([18, 47, 56, 57]), the next token target is 58\n",
            "when input is tensor([18, 47, 56, 57, 58]), the next token target is 1\n",
            "when input is tensor([18, 47, 56, 57, 58,  1]), the next token target is 15\n",
            "when input is tensor([18, 47, 56, 57, 58,  1, 15]), the next token target is 47\n",
            "when input is tensor([18, 47, 56, 57, 58,  1, 15, 47]), the next token target is 58\n"
          ]
        }
      ]
    },
    {
      "cell_type": "code",
      "source": [
        "## when we actually train the gpu, we put |batch_size| * |chunk_size| tokens into the gpu for parallelization efficiency\n",
        "\n",
        "torch.manual_seed(1337)\n",
        "batch_size = 4 ## how many chunks we send into gpu every time\n",
        "block_size = 8 ## size of each chunk\n",
        "device = 'cuda' if torch.cuda.is_available() else 'cpu'\n",
        "max_iters = 3000\n",
        "eval_interval = 300\n",
        "learning_rate = 1e-2\n",
        "eval_iters = 200\n",
        "\n",
        "def get_batch(split):\n",
        "  ## generate a small batch of data of inputs x and targets y\n",
        "  data = train_data if split == 'train' else val_data\n",
        "  ix = torch.randint(len(data) - block_size, (batch_size,))\n",
        "  ## pick a random int in range of 0 , len(data) - block_size for batch_size times\n",
        "  x = torch.stack([data[i:i+block_size] for i in ix])\n",
        "  ## generate context x for each random int in ix\n",
        "  y = torch.stack([data[i+1: i+block_size+1] for i in ix])\n",
        "  ## if device becomes cuda, we need to move data to our gpu\n",
        "  x, y = x.to(device), y.to(device)\n",
        "  ## genereate target y for each random int in ix where each y[a][b] is the target for input x[:a+1][b]\n",
        "  return x, y\n",
        "xb, yb = get_batch('train')\n",
        "print(f\"inputs shape: {xb.shape}, data: {xb}, output shape {yb.shape} output value {yb}\")\n"
      ],
      "metadata": {
        "colab": {
          "base_uri": "https://localhost:8080/"
        },
        "id": "z_IjgAcrbcgO",
        "outputId": "f8b70c28-82d5-4180-803d-2c833ca9489c"
      },
      "execution_count": 35,
      "outputs": [
        {
          "output_type": "stream",
          "name": "stdout",
          "text": [
            "inputs shape: torch.Size([4, 8]), data: tensor([[24, 43, 58,  5, 57,  1, 46, 43],\n",
            "        [44, 53, 56,  1, 58, 46, 39, 58],\n",
            "        [52, 58,  1, 58, 46, 39, 58,  1],\n",
            "        [25, 17, 27, 10,  0, 21,  1, 54]]), output shape torch.Size([4, 8]) output value tensor([[43, 58,  5, 57,  1, 46, 43, 39],\n",
            "        [53, 56,  1, 58, 46, 39, 58,  1],\n",
            "        [58,  1, 58, 46, 39, 58,  1, 46],\n",
            "        [17, 27, 10,  0, 21,  1, 54, 39]])\n"
          ]
        }
      ]
    },
    {
      "cell_type": "code",
      "source": [
        "## start a simple nn\n",
        "import torch\n",
        "import torch.nn as nn\n",
        "from torch.nn import functional as F\n",
        "torch.manual_seed(1337)\n",
        "\n",
        "class BigramLanguageModel(nn.Module):\n",
        "\n",
        "  def __init__(self, vocab_size):\n",
        "    super().__init__()\n",
        "    # each token directly reads off the logits for the next token from a lookup table\n",
        "    # the lookup table is randomly initialized, like a random guesser\n",
        "    self.token_embedding_table = nn.Embedding(vocab_size, vocab_size)\n",
        "\n",
        "  def forward(self, idx, targets = None):\n",
        "    # idx and targets are both (B,T) tensor of integers\n",
        "    logits = self.token_embedding_table(idx) # (B,T,C)\n",
        "    ## loss = F.cross_entropy(logits, targets)\n",
        "    ## cross_entropy is defined as sum(-xln(x)), if i have a prob vector [0.65: cat, 0.35: dog]\n",
        "    ## and target is dog, the loss will be -ln(0.35) = 1.04\n",
        "    ## if the target is cat, then loss will be -ln(0.65) = 0.43\n",
        "    ## you can see the loss decreases when our prob distribution gets closer to target\n",
        "    ## in pytorch, the dimension for loss is # (B,C,T) instead of #(B,T,C)\n",
        "    ## threfore we need to reshape loss func\n",
        "    if targets is None:\n",
        "      loss = None\n",
        "    else:\n",
        "      B, T, C = logits.shape\n",
        "      logits = logits.view(B*T, C)\n",
        "      targets = targets.view(B*T)\n",
        "      loss = F.cross_entropy(logits, targets)\n",
        "    return logits, loss\n",
        "\n",
        "  def generate(self, idx, max_new_tokens):\n",
        "    # idx is (B, T) array of indices in the current context\n",
        "    for _ in range(max_new_tokens):\n",
        "      # get the predictions\n",
        "      logits, loss = self(idx)\n",
        "      # focus only on the last time step\n",
        "      logits = logits[:, -1, :] # becomes (B, C), here only 1 previous token is used, history is skipped\n",
        "      # apply softmax to get probabilities from logits\n",
        "      probs = F.softmax(logits, dim=-1) # (B, C)\n",
        "      # sample from the distribution\n",
        "      idx_next = torch.multinomial(probs, num_samples=1) # (B, 1)\n",
        "      # append sampled index to the running sequence\n",
        "      idx = torch.cat((idx, idx_next), dim=1) # (B, T+1)\n",
        "    return idx\n",
        "\n",
        "model = BigramLanguageModel(vocab_size)\n",
        "## if device is cuda:\n",
        "m = model.to(device)\n",
        "logits, loss = m(xb, yb)\n",
        "## logits is the probability distribution tensor for each |batch_size| * |block_size| input\n",
        "print(logits.shape)\n",
        "print(loss)\n",
        "print(decode(m.generate(idx = torch.zeros((1, 1), dtype=torch.long), max_new_tokens=100)[0].tolist()))"
      ],
      "metadata": {
        "colab": {
          "base_uri": "https://localhost:8080/"
        },
        "id": "QB-wFbILgnkf",
        "outputId": "97e2eea3-43fc-4448-9078-d0b399f847c4"
      },
      "execution_count": 30,
      "outputs": [
        {
          "output_type": "stream",
          "name": "stdout",
          "text": [
            "torch.Size([32, 65])\n",
            "tensor(4.8786, grad_fn=<NllLossBackward0>)\n",
            "\n",
            "Sr?qP-QWktXoL&jLDJgOLVz'RIoDqHdhsV&vLLxatjscMpwLERSPyao.qfzs$Ys$zF-w,;eEkzxjgCKFChs!iWW.ObzDnxA Ms$3\n"
          ]
        }
      ]
    },
    {
      "cell_type": "code",
      "source": [
        "## create a PyTorch optimizer\n",
        "optimizer = torch.optim.AdamW(m.parameters(), lr = 1e-3) ## higher learning rate for smaller models\n",
        "## adamw refers to adaptive moment estimation with weight decay using moving averate of gradients and squared\n",
        "## gradients to update parameters\n",
        ""
      ],
      "metadata": {
        "id": "4GxJToW4rVR3"
      },
      "execution_count": 31,
      "outputs": []
    },
    {
      "cell_type": "code",
      "source": [
        "@torch.no_grad()\n",
        "def estimate_loss():\n",
        "  out = {}\n",
        "  m.eval()\n",
        "  for split in ['train', 'val']:\n",
        "    losses = torch.zeros(eval_iters)\n",
        "    for k in range(eval_iters):\n",
        "      X, Y = get_batch(split)\n",
        "      logits, loss = m(X, Y)\n",
        "      losses[k] = loss.item()\n",
        "    out[split] = losses.mean()\n",
        "  m.train()\n",
        "  return out"
      ],
      "metadata": {
        "id": "ejK7OeoZyePL"
      },
      "execution_count": 37,
      "outputs": []
    },
    {
      "cell_type": "code",
      "source": [
        "batch_size = 32\n",
        "for iter in range(max_iters):\n",
        "  ## sample a batch of data\n",
        "  ## estimate loss for each eval_interval\n",
        "  if iter % eval_interval == 0:\n",
        "    losses = estimate_loss()\n",
        "    print(f\"step: {iter}, train loss: {losses['train']}, val loss: {losses['val']}\")\n",
        "  xb, yb = get_batch('train')\n",
        "\n",
        "  ## evaluate the loss\n",
        "  logits, loss = m(xb, yb)\n",
        "  ## cleaning up previous gradients\n",
        "  optimizer.zero_grad(set_to_none=True)\n",
        "  loss.backward()\n",
        "  optimizer.step()\n",
        "  ##print(loss.item()) ## use averaged loss per eval_interval to get a smoother result"
      ],
      "metadata": {
        "colab": {
          "base_uri": "https://localhost:8080/"
        },
        "id": "OfunJRuotGGl",
        "outputId": "afec0e78-40d3-4235-b395-fd7c1e61a634"
      },
      "execution_count": 40,
      "outputs": [
        {
          "output_type": "stream",
          "name": "stdout",
          "text": [
            "step: 0, train loss: 2.4610090255737305, val loss: 2.4817562103271484\n",
            "step: 300, train loss: 2.468789577484131, val loss: 2.4772789478302\n",
            "step: 600, train loss: 2.456315755844116, val loss: 2.4826414585113525\n",
            "step: 900, train loss: 2.4573965072631836, val loss: 2.487539291381836\n",
            "step: 1200, train loss: 2.4704136848449707, val loss: 2.484560489654541\n",
            "step: 1500, train loss: 2.460576057434082, val loss: 2.477604627609253\n",
            "step: 1800, train loss: 2.462728500366211, val loss: 2.4868149757385254\n",
            "step: 2100, train loss: 2.464789390563965, val loss: 2.473625898361206\n",
            "step: 2400, train loss: 2.452817916870117, val loss: 2.488725185394287\n",
            "step: 2700, train loss: 2.457933187484741, val loss: 2.477743625640869\n"
          ]
        }
      ]
    },
    {
      "cell_type": "code",
      "source": [
        "print(decode(m.generate(idx = torch.zeros((1, 1), dtype=torch.long), max_new_tokens=500)[0].tolist()))"
      ],
      "metadata": {
        "colab": {
          "base_uri": "https://localhost:8080/"
        },
        "id": "qPipPAoqtr0-",
        "outputId": "3640380b-a732-4357-c3e8-cf5553c02bab"
      },
      "execution_count": 41,
      "outputs": [
        {
          "output_type": "stream",
          "name": "stdout",
          "text": [
            "\n",
            "IVIfis.\n",
            "Genughees, ga t that,\n",
            "we wongoy; unde nin arothig, h houd\n",
            "HEN:\n",
            "yoreay'e ENTEriouroof!\n",
            "\n",
            "LEsthouns am th:\n",
            "MEMPuniowe t s hinot s apadstr dsths su,\n",
            "Allowrcr couromazes, ar-nose mothe.\n",
            "\n",
            "S:\n",
            "\n",
            "IFidgngut t ve ng whove, s thithes bin the:\n",
            "S:\n",
            "R:\n",
            "LO:\n",
            "I to ICLer ily, lanirsknorue:\n",
            "\n",
            "WAs or.\n",
            "DY:\n",
            "Ronry teldos ond f h ay.\n",
            "Be n'le;\n",
            "Pald! l-ct Whin-\n",
            "\n",
            "Asprakarther3KEThare.\n",
            "Fieve?\n",
            "Tre\n",
            "Fiverere.\n",
            "\n",
            "\n",
            "Bonchetomowimy as:\n",
            "O:\n",
            "Pr ownt je thopryorfy n war nany habine ourncaveie per'sthif 'ras,\n",
            "I,\n",
            "ALKEROK:\n",
            "S: hand me\n",
            "\n"
          ]
        }
      ]
    },
    {
      "cell_type": "markdown",
      "source": [
        "*The mathematical trick in self attention::*"
      ],
      "metadata": {
        "id": "MM21-cbO_qlg"
      }
    },
    {
      "cell_type": "code",
      "source": [
        "## consider the following toy example:\n",
        "\n",
        "torch.manual_seed(1337)\n",
        "B,T,C = 4,8,2 #batch, time, channels(number of possible tokens)\n",
        "## we want the 8 tokens in same Batch to each other\n",
        "## the 7th token cannot know anything about 8th token\n",
        "## but the reverse is true\n",
        "\n",
        "x = torch.randn(B,T,C)\n",
        "x.shape\n"
      ],
      "metadata": {
        "colab": {
          "base_uri": "https://localhost:8080/"
        },
        "id": "BhreheV4_wtL",
        "outputId": "27a1e871-5ac0-4b8d-a2c7-49bdf8c4a94f"
      },
      "execution_count": 42,
      "outputs": [
        {
          "output_type": "execute_result",
          "data": {
            "text/plain": [
              "torch.Size([4, 8, 2])"
            ]
          },
          "metadata": {},
          "execution_count": 42
        }
      ]
    },
    {
      "cell_type": "code",
      "source": [
        "## averaging previous words x[b,t] = mean_{i<=t} x[b,i]\n",
        "xbow = torch.zeros((B,T,C))\n",
        "for b in range(B):\n",
        "  for t in range(T):\n",
        "    xprev = x[b,:t+1] ## (t,C), can be optimized by prefix sum\n",
        "    xbow[b,t] = torch.mean(xprev, 0)\n",
        "print(\"X\",x)\n",
        "print(x[0] == xbow[0]) ## same for position 0 but different since position 1"
      ],
      "metadata": {
        "colab": {
          "base_uri": "https://localhost:8080/"
        },
        "id": "N7ZsB16_AbLS",
        "outputId": "21c1d6d2-2c0e-4425-d956-f4070a0b8b19"
      },
      "execution_count": 49,
      "outputs": [
        {
          "output_type": "stream",
          "name": "stdout",
          "text": [
            "X tensor([[[ 0.1808, -0.0700],\n",
            "         [-0.3596, -0.9152],\n",
            "         [ 0.6258,  0.0255],\n",
            "         [ 0.9545,  0.0643],\n",
            "         [ 0.3612,  1.1679],\n",
            "         [-1.3499, -0.5102],\n",
            "         [ 0.2360, -0.2398],\n",
            "         [-0.9211,  1.5433]],\n",
            "\n",
            "        [[ 1.3488, -0.1396],\n",
            "         [ 0.2858,  0.9651],\n",
            "         [-2.0371,  0.4931],\n",
            "         [ 1.4870,  0.5910],\n",
            "         [ 0.1260, -1.5627],\n",
            "         [-1.1601, -0.3348],\n",
            "         [ 0.4478, -0.8016],\n",
            "         [ 1.5236,  2.5086]],\n",
            "\n",
            "        [[-0.6631, -0.2513],\n",
            "         [ 1.0101,  0.1215],\n",
            "         [ 0.1584,  1.1340],\n",
            "         [-1.1539, -0.2984],\n",
            "         [-0.5075, -0.9239],\n",
            "         [ 0.5467, -1.4948],\n",
            "         [-1.2057,  0.5718],\n",
            "         [-0.5974, -0.6937]],\n",
            "\n",
            "        [[ 1.6455, -0.8030],\n",
            "         [ 1.3514, -0.2759],\n",
            "         [-1.5108,  2.1048],\n",
            "         [ 2.7630, -1.7465],\n",
            "         [ 1.4516, -1.5103],\n",
            "         [ 0.8212, -0.2115],\n",
            "         [ 0.7789,  1.5333],\n",
            "         [ 1.6097, -0.4032]]])\n",
            "tensor([[ True,  True],\n",
            "        [False, False],\n",
            "        [False, False],\n",
            "        [False, False],\n",
            "        [False, False],\n",
            "        [False, False],\n",
            "        [False, False],\n",
            "        [False, False]])\n"
          ]
        }
      ]
    },
    {
      "cell_type": "code",
      "source": [
        "## C*X = Xbow? Let's consider an easy 2*2 case\n",
        "## suppose X is [[a,b]\n",
        "##               [c,d]]\n",
        "## Xbow is      [[a,b]\n",
        "##               [(a+c)/2,(b+d)/2]]\n",
        "## C is         [[x11, x12]\n",
        "##               [x21, x22]]\n",
        "##             x11a + x12c = a             --->x12 = 0, x11 = 1\n",
        "##             x11b + x12d = b             --->x11 = 1, x12 = 0\n",
        "##             x21a + x22c = (a+c)/2       ----> x21 = 1/2, x22 = 1/2\n",
        "##             x21b + x22d = (b+d)/2       --->  x21 = 1/2, x22 = 1/2\n",
        "##             C looks like\n",
        "##              [1,0]\n",
        "##              [1/2,1/2]\n",
        "## a more general form is triangular [1,   0,   0,    0]\n",
        "##                                   [1/2,1/2,  0,    0]\n",
        "##                                   [1/3,1/3, 1/3,   0]\n",
        "##                                   [1/4,1/4, 1/4, 1/4]"
      ],
      "metadata": {
        "colab": {
          "base_uri": "https://localhost:8080/"
        },
        "id": "GmKUvQdNGnVQ",
        "outputId": "d3eedd13-641e-433c-d709-4c06e45e0353"
      },
      "execution_count": 50,
      "outputs": [
        {
          "output_type": "execute_result",
          "data": {
            "text/plain": [
              "tensor([[1., 0., 0.],\n",
              "        [1., 1., 0.],\n",
              "        [1., 1., 1.]])"
            ]
          },
          "metadata": {},
          "execution_count": 50
        }
      ]
    },
    {
      "cell_type": "code",
      "source": [
        "wei = torch.tril(torch.ones(T, T))\n",
        "wei = wei / wei.sum(1, keepdim=True)\n",
        "xbow2 = wei @ x ## (B, T, T) @ (B, T, C) ----> (B, T, C) ## paralleled matrix multiplication\n",
        "print(\"xbow - xbow2\", xbow - xbow2)\n",
        "torch.allclose(xbow, xbow2, atol=1e-6)\n"
      ],
      "metadata": {
        "colab": {
          "base_uri": "https://localhost:8080/"
        },
        "id": "7N0ySaPxMY1n",
        "outputId": "80dfe901-f052-4ef7-e1f2-e3edd0ddb340"
      },
      "execution_count": 54,
      "outputs": [
        {
          "output_type": "stream",
          "name": "stdout",
          "text": [
            "xbow - xbow2 tensor([[[ 0.0000e+00,  0.0000e+00],\n",
            "         [ 0.0000e+00,  0.0000e+00],\n",
            "         [ 0.0000e+00,  2.9802e-08],\n",
            "         [ 0.0000e+00,  0.0000e+00],\n",
            "         [ 0.0000e+00,  7.4506e-09],\n",
            "         [-7.4506e-09,  0.0000e+00],\n",
            "         [ 7.4506e-09, -1.4901e-08],\n",
            "         [ 0.0000e+00,  0.0000e+00]],\n",
            "\n",
            "        [[ 0.0000e+00,  0.0000e+00],\n",
            "         [ 0.0000e+00,  0.0000e+00],\n",
            "         [-1.4901e-08,  0.0000e+00],\n",
            "         [ 0.0000e+00,  0.0000e+00],\n",
            "         [-1.4901e-08,  2.2352e-08],\n",
            "         [-4.6566e-09,  3.2363e-08],\n",
            "         [-7.4506e-09,  0.0000e+00],\n",
            "         [ 2.9802e-08,  0.0000e+00]],\n",
            "\n",
            "        [[ 0.0000e+00,  0.0000e+00],\n",
            "         [ 0.0000e+00,  0.0000e+00],\n",
            "         [-1.4901e-08, -2.9802e-08],\n",
            "         [ 0.0000e+00,  0.0000e+00],\n",
            "         [ 1.4901e-08, -7.4506e-09],\n",
            "         [ 7.4506e-09,  0.0000e+00],\n",
            "         [ 2.9802e-08,  2.9802e-08],\n",
            "         [-2.9802e-08,  2.9802e-08]],\n",
            "\n",
            "        [[ 0.0000e+00,  0.0000e+00],\n",
            "         [ 0.0000e+00,  0.0000e+00],\n",
            "         [ 0.0000e+00,  0.0000e+00],\n",
            "         [ 0.0000e+00,  0.0000e+00],\n",
            "         [ 0.0000e+00,  0.0000e+00],\n",
            "         [ 0.0000e+00,  2.9802e-08],\n",
            "         [ 0.0000e+00, -1.4901e-08],\n",
            "         [ 0.0000e+00,  2.9802e-08]]])\n"
          ]
        },
        {
          "output_type": "execute_result",
          "data": {
            "text/plain": [
              "True"
            ]
          },
          "metadata": {},
          "execution_count": 54
        }
      ]
    },
    {
      "cell_type": "code",
      "source": [
        "## another approach: use softmax to create C where C*X = X_bow\n",
        "tril = torch.tril(torch.ones(T, T))\n",
        "wei = torch.zeros((T,T))\n",
        "wei = wei.masked_fill(tril == 0, float('-inf'))\n",
        "wei = F.softmax(wei, dim=-1)\n",
        "wei"
      ],
      "metadata": {
        "colab": {
          "base_uri": "https://localhost:8080/"
        },
        "id": "2K2txWqhR06u",
        "outputId": "81997670-8120-4141-d40a-4e43eeebe2e1"
      },
      "execution_count": 58,
      "outputs": [
        {
          "output_type": "execute_result",
          "data": {
            "text/plain": [
              "tensor([[1.0000, 0.0000, 0.0000, 0.0000, 0.0000, 0.0000, 0.0000, 0.0000],\n",
              "        [0.5000, 0.5000, 0.0000, 0.0000, 0.0000, 0.0000, 0.0000, 0.0000],\n",
              "        [0.3333, 0.3333, 0.3333, 0.0000, 0.0000, 0.0000, 0.0000, 0.0000],\n",
              "        [0.2500, 0.2500, 0.2500, 0.2500, 0.0000, 0.0000, 0.0000, 0.0000],\n",
              "        [0.2000, 0.2000, 0.2000, 0.2000, 0.2000, 0.0000, 0.0000, 0.0000],\n",
              "        [0.1667, 0.1667, 0.1667, 0.1667, 0.1667, 0.1667, 0.0000, 0.0000],\n",
              "        [0.1429, 0.1429, 0.1429, 0.1429, 0.1429, 0.1429, 0.1429, 0.0000],\n",
              "        [0.1250, 0.1250, 0.1250, 0.1250, 0.1250, 0.1250, 0.1250, 0.1250]])"
            ]
          },
          "metadata": {},
          "execution_count": 58
        }
      ]
    },
    {
      "cell_type": "code",
      "source": [
        "n_embed = 32\n",
        "class BigramLanguageModel(nn.Module):\n",
        "\n",
        "  def __init__(self):\n",
        "    super().__init__()\n",
        "    # each token directly reads off the logits for the next token from a lookup table\n",
        "    # the lookup table is randomly initialized, like a random guesser\n",
        "    self.token_embedding_table = nn.Embedding(vocab_size, n_embed)\n",
        "    self.position_embedding_table = nn.Embedding(block_size, n_embed)\n",
        "    self.lm_head = nn.Linear(n_embed, vocab_size)\n",
        "\n",
        "  def forward(self, idx, targets = None):\n",
        "    # idx and targets are both (B,T) tensor of integers\n",
        "    B, T = idx.shape\n",
        "    tok_embed = self.token_embedding_table(idx) # (B,T,C: n_embed)\n",
        "    pos_emb = self.position_embedding_table(torch.arange(T, device=device)) # (T,C: n_embed)\n",
        "    x = tok_embed + pos_emb # (B,T,C: n_embed)\n",
        "    logits = self.lm_head(tok_embed) # (B,T,vocab_size)\n",
        "\n",
        "    ## loss = F.cross_entropy(logits, targets)\n",
        "    ## cross_entropy is defined as sum(-xln(x)), if i have a prob vector [0.65: cat, 0.35: dog]\n",
        "    ## and target is dog, the loss will be -ln(0.35) = 1.04\n",
        "    ## if the target is cat, then loss will be -ln(0.65) = 0.43\n",
        "    ## you can see the loss decreases when our prob distribution gets closer to target\n",
        "    ## in pytorch, the dimension for loss is # (B,C,T) instead of #(B,T,C)\n",
        "    ## threfore we need to reshape loss func\n",
        "    if targets is None:\n",
        "      loss = None\n",
        "    else:\n",
        "      B, T, C = logits.shape\n",
        "      logits = logits.view(B*T, C)\n",
        "      targets = targets.view(B*T)\n",
        "      loss = F.cross_entropy(logits, targets)\n",
        "    return logits, loss\n",
        "\n",
        "  def generate(self, idx, max_new_tokens):\n",
        "    # idx is (B, T) array of indices in the current context\n",
        "    for _ in range(max_new_tokens):\n",
        "      # get the predictions\n",
        "      logits, loss = self(idx)\n",
        "      # focus only on the last time step\n",
        "      logits = logits[:, -1, :] # becomes (B, C), here only 1 previous token is used, history is skipped\n",
        "      # apply softmax to get probabilities from logits\n",
        "      probs = F.softmax(logits, dim=-1) # (B, C)\n",
        "      # sample from the distribution\n",
        "      idx_next = torch.multinomial(probs, num_samples=1) # (B, 1)\n",
        "      # append sampled index to the running sequence\n",
        "      idx = torch.cat((idx, idx_next), dim=1) # (B, T+1)\n",
        "    return idx\n",
        "\n",
        "model = BigramLanguageModel()\n",
        "## if device is cuda:\n",
        "m = model.to(device)\n",
        "logits, loss = m(xb, yb)\n",
        "## logits is the probability distribution tensor for each |batch_size| * |block_size| input\n",
        "print(logits.shape)\n",
        "print(loss)\n",
        "## create a PyTorch optimizer\n",
        "optimizer = torch.optim.AdamW(m.parameters(), lr = 1e-3) ## higher learning rate for smaller models\n",
        "## adamw refers to adaptive moment estimation with weight decay using moving averate of gradients and squared\n",
        "## gradients to update parameters\n",
        "for iter in range(max_iters):\n",
        "  ## sample a batch of data\n",
        "  ## estimate loss for each eval_interval\n",
        "  if iter % eval_interval == 0:\n",
        "    losses = estimate_loss()\n",
        "    print(f\"step: {iter}, train loss: {losses['train']}, val loss: {losses['val']}\")\n",
        "  xb, yb = get_batch('train')\n",
        "\n",
        "  ## evaluate the loss\n",
        "  logits, loss = m(xb, yb)\n",
        "  ## cleaning up previous gradients\n",
        "  optimizer.zero_grad(set_to_none=True)\n",
        "  loss.backward()\n",
        "  optimizer.step()\n",
        "##print(decode(m.generate(idx = torch.zeros((1, 1), dtype=torch.long), max_new_tokens=100)[0].tolist()))"
      ],
      "metadata": {
        "colab": {
          "base_uri": "https://localhost:8080/"
        },
        "id": "BloIN66xXbGM",
        "outputId": "0b228360-fa89-437e-97bf-545a1d01a723"
      },
      "execution_count": 69,
      "outputs": [
        {
          "output_type": "stream",
          "name": "stdout",
          "text": [
            "torch.Size([256, 65])\n",
            "tensor(4.3020, grad_fn=<NllLossBackward0>)\n",
            "step: 0, train loss: 4.372992992401123, val loss: 4.365924835205078\n",
            "step: 300, train loss: 2.8543167114257812, val loss: 2.8668007850646973\n",
            "step: 600, train loss: 2.644808053970337, val loss: 2.658140182495117\n",
            "step: 900, train loss: 2.5634756088256836, val loss: 2.5893383026123047\n",
            "step: 1200, train loss: 2.5483484268188477, val loss: 2.5588622093200684\n",
            "step: 1500, train loss: 2.533768892288208, val loss: 2.543004035949707\n",
            "step: 1800, train loss: 2.5078165531158447, val loss: 2.5229456424713135\n",
            "step: 2100, train loss: 2.5005290508270264, val loss: 2.5185604095458984\n",
            "step: 2400, train loss: 2.4943957328796387, val loss: 2.5248606204986572\n",
            "step: 2700, train loss: 2.484518527984619, val loss: 2.5112946033477783\n"
          ]
        }
      ]
    },
    {
      "cell_type": "code",
      "source": [
        "# version 4: self attension meaning q and k are all coming from x, k and q\n",
        "# are interchangeable in this case!\n",
        "# cross-attention is used when we have some context like weather information\n",
        "# formula: Attention = V(QK^T/sqrt(d)), Q: query, K: key, V:value, T: transpose,\n",
        "# sqrt(d): normalization so attention does not get messed up by size of Q\n",
        "\n",
        "torch.manual_seed(1337)\n",
        "B, T, C = 4, 8, 32\n",
        "x = torch.randn(B,T,C)\n",
        "# let's see a single Head perform self-attention\n",
        "head_size = 16\n",
        "# each head is a possible correlation mechanism,\n",
        "# e.g.: \"Today is the last day for summer camp\"\n",
        "# one head is spelling in word Today\n",
        "# another head is semantics, like Today is (single form of be for Today)\n",
        "key = nn.Linear(C, head_size, bias=False)\n",
        "query = nn.Linear(C, head_size, bias=False)\n",
        "value = nn.Linear(C, head_size, bias=False)\n",
        "k = key(x) # (B, T, 16)\n",
        "q = query(x) # (B, T, 16)\n",
        "\n",
        "wei = q @ k.transpose(-2, -1) # (B, T, 16) @ (B, 16, T) ---> (B, T, T)\n",
        "## interacting q and k, higher value at wei[i][j] means higher correlation between\n",
        "## x[B,i,C ] and x[B,j,C ], i and j are positions\n",
        "## wei is the adj matrix of a directional complete graph\n",
        "##    1 ---> 2\n",
        "##    2 ---> 4\n",
        "##    4 ---> 3 ....\n",
        "## if we use transformer to study multi character dialogues, then we can correlate\n",
        "## ramsay numbers with transformer's Attention layer, R(3,3) = 6 meaning that we will\n",
        "# # see a cluster of 3 tokens from same character if the total token number is\n",
        "# >= 6\n",
        "\n",
        "tril = torch.tril(torch.ones(T, T))\n",
        "##wei = torch.zeros((T,T))\n",
        "wei = wei.masked_fill(tril == 0, float('-inf'))\n",
        "## float('-inf') might not be needed in other tasks like semantic classification\n",
        "wei = F.softmax(wei, dim=-1) ##normalization\n",
        "v = value(x) ## storing weighted information about x for a single head\n",
        "out = wei @ v\n",
        "#out = wei @ x\n",
        "out.shape"
      ],
      "metadata": {
        "colab": {
          "base_uri": "https://localhost:8080/"
        },
        "id": "Ks5SVn0_eqRh",
        "outputId": "41da6615-6c20-4838-8590-a5f68b4f82aa"
      },
      "execution_count": 82,
      "outputs": [
        {
          "output_type": "execute_result",
          "data": {
            "text/plain": [
              "torch.Size([4, 8, 16])"
            ]
          },
          "metadata": {},
          "execution_count": 82
        }
      ]
    },
    {
      "cell_type": "code",
      "source": [
        "tril"
      ],
      "metadata": {
        "colab": {
          "base_uri": "https://localhost:8080/"
        },
        "id": "WfIBehXZfV4s",
        "outputId": "b4e48cda-5318-4aa4-f1c1-34a352071220"
      },
      "execution_count": 80,
      "outputs": [
        {
          "output_type": "execute_result",
          "data": {
            "text/plain": [
              "tensor([[1., 0., 0., 0., 0., 0., 0., 0.],\n",
              "        [1., 1., 0., 0., 0., 0., 0., 0.],\n",
              "        [1., 1., 1., 0., 0., 0., 0., 0.],\n",
              "        [1., 1., 1., 1., 0., 0., 0., 0.],\n",
              "        [1., 1., 1., 1., 1., 0., 0., 0.],\n",
              "        [1., 1., 1., 1., 1., 1., 0., 0.],\n",
              "        [1., 1., 1., 1., 1., 1., 1., 0.],\n",
              "        [1., 1., 1., 1., 1., 1., 1., 1.]])"
            ]
          },
          "metadata": {},
          "execution_count": 80
        }
      ]
    },
    {
      "cell_type": "code",
      "source": [
        "wei"
      ],
      "metadata": {
        "colab": {
          "base_uri": "https://localhost:8080/"
        },
        "id": "QVBKGmJzfYHQ",
        "outputId": "9bc1eedd-490c-4bc7-89ec-7e4d01aef266"
      },
      "execution_count": 81,
      "outputs": [
        {
          "output_type": "execute_result",
          "data": {
            "text/plain": [
              "tensor([[[1.0000, 0.0000, 0.0000, 0.0000, 0.0000, 0.0000, 0.0000, 0.0000],\n",
              "         [0.1574, 0.8426, 0.0000, 0.0000, 0.0000, 0.0000, 0.0000, 0.0000],\n",
              "         [0.2088, 0.1646, 0.6266, 0.0000, 0.0000, 0.0000, 0.0000, 0.0000],\n",
              "         [0.5792, 0.1187, 0.1889, 0.1131, 0.0000, 0.0000, 0.0000, 0.0000],\n",
              "         [0.0294, 0.1052, 0.0469, 0.0276, 0.7909, 0.0000, 0.0000, 0.0000],\n",
              "         [0.0176, 0.2689, 0.0215, 0.0089, 0.6812, 0.0019, 0.0000, 0.0000],\n",
              "         [0.1691, 0.4066, 0.0438, 0.0416, 0.1048, 0.2012, 0.0329, 0.0000],\n",
              "         [0.0210, 0.0843, 0.0555, 0.2297, 0.0573, 0.0709, 0.2423, 0.2391]],\n",
              "\n",
              "        [[1.0000, 0.0000, 0.0000, 0.0000, 0.0000, 0.0000, 0.0000, 0.0000],\n",
              "         [0.1687, 0.8313, 0.0000, 0.0000, 0.0000, 0.0000, 0.0000, 0.0000],\n",
              "         [0.2477, 0.0514, 0.7008, 0.0000, 0.0000, 0.0000, 0.0000, 0.0000],\n",
              "         [0.4410, 0.0957, 0.3747, 0.0887, 0.0000, 0.0000, 0.0000, 0.0000],\n",
              "         [0.0069, 0.0456, 0.0300, 0.7748, 0.1427, 0.0000, 0.0000, 0.0000],\n",
              "         [0.0660, 0.0892, 0.0413, 0.6316, 0.1649, 0.0069, 0.0000, 0.0000],\n",
              "         [0.0396, 0.2288, 0.0090, 0.2000, 0.2061, 0.1949, 0.1217, 0.0000],\n",
              "         [0.3650, 0.0474, 0.0767, 0.0293, 0.3084, 0.0784, 0.0455, 0.0493]],\n",
              "\n",
              "        [[1.0000, 0.0000, 0.0000, 0.0000, 0.0000, 0.0000, 0.0000, 0.0000],\n",
              "         [0.4820, 0.5180, 0.0000, 0.0000, 0.0000, 0.0000, 0.0000, 0.0000],\n",
              "         [0.1705, 0.4550, 0.3745, 0.0000, 0.0000, 0.0000, 0.0000, 0.0000],\n",
              "         [0.0074, 0.7444, 0.0477, 0.2005, 0.0000, 0.0000, 0.0000, 0.0000],\n",
              "         [0.8359, 0.0416, 0.0525, 0.0580, 0.0119, 0.0000, 0.0000, 0.0000],\n",
              "         [0.1195, 0.2061, 0.1019, 0.1153, 0.1814, 0.2758, 0.0000, 0.0000],\n",
              "         [0.0065, 0.0589, 0.0372, 0.3063, 0.1325, 0.3209, 0.1378, 0.0000],\n",
              "         [0.1416, 0.1519, 0.0384, 0.1643, 0.1207, 0.1254, 0.0169, 0.2408]],\n",
              "\n",
              "        [[1.0000, 0.0000, 0.0000, 0.0000, 0.0000, 0.0000, 0.0000, 0.0000],\n",
              "         [0.6369, 0.3631, 0.0000, 0.0000, 0.0000, 0.0000, 0.0000, 0.0000],\n",
              "         [0.2586, 0.7376, 0.0038, 0.0000, 0.0000, 0.0000, 0.0000, 0.0000],\n",
              "         [0.4692, 0.3440, 0.1237, 0.0631, 0.0000, 0.0000, 0.0000, 0.0000],\n",
              "         [0.1865, 0.4680, 0.0353, 0.1854, 0.1248, 0.0000, 0.0000, 0.0000],\n",
              "         [0.0828, 0.7479, 0.0017, 0.0735, 0.0712, 0.0228, 0.0000, 0.0000],\n",
              "         [0.0522, 0.0517, 0.0961, 0.0375, 0.1024, 0.5730, 0.0872, 0.0000],\n",
              "         [0.0306, 0.2728, 0.0333, 0.1409, 0.1414, 0.0582, 0.0825, 0.2402]]],\n",
              "       grad_fn=<SoftmaxBackward0>)"
            ]
          },
          "metadata": {},
          "execution_count": 81
        }
      ]
    },
    {
      "cell_type": "code",
      "source": [
        "class Head(nn.Module):\n",
        "  \"\"\"one head of self-attention\"\"\"\n",
        "  def __init__(self, head_size):\n",
        "    super().__init__()\n",
        "    self.key = nn.Linear(n_embed, head_size, bias=False)\n",
        "    self.query = nn.Linear(n_embed, head_size, bias=False)\n",
        "    self.value = nn.Linear(n_embed, head_size, bias=False)\n",
        "    self.register_buffer('tril', torch.tril(torch.ones(block_size, block_size)))\n",
        "\n",
        "  def forward(self, x):\n",
        "    B,T,C = x.shape\n",
        "    k = self.key(x) # (B,T,C)\n",
        "    q = self.query(x) # (B,T,C)\n",
        "    wei = q @ k.transpose(-2, -1) * C**-0.5 # (B, T, C) @ (B, C, T) ---> (B, T, T)\n",
        "    wei = wei.masked_fill(self.tril[:T, :T] == 0, float('-inf'))\n",
        "    wei = F.softmax(wei, dim=-1)\n",
        "    v = self.value(x)\n",
        "    out = wei @ v\n",
        "    return out\n",
        "\n",
        "class BigramLanguageModel(nn.Module):\n",
        "  def __init__(self):\n",
        "    super().__init__()\n",
        "    # each token directly reads off the logits for the next token from a lookup table\n",
        "    self.token_embedding_table = nn.Embedding(vocab_size, n_embed)\n",
        "    self.position_embedding_table = nn.Embedding(block_size, n_embed)\n",
        "    self.lm_head = nn.Linear(n_embed, vocab_size)\n",
        "\n",
        "  def forward(self, idx, targets=None):\n",
        "    B, T = idx.shape\n",
        "    # idx and targets are both (B,T) tensor of integers\n",
        "    token_emb = self.token_embedding_table(idx) # (B,T,C)\n",
        "    pos_emb = self.position_embedding_table(torch.arange(T, device=device))\n",
        "    x = token_emb + pos_emb\n",
        "    logits = self.lm_head(x) # (B,T,vocab_size)\n",
        "    if self.lm_head is None:\n",
        "      loss = None\n",
        "    else:\n",
        "      B, T, C = logits.shape\n",
        "      logits = logits.view(B*T, C)\n",
        "      targets = targets.view(B*T)\n",
        "      loss = F.cross_entropy(logits, targets)\n",
        "    return logits, loss\n",
        "\n",
        "  def generate(self, idx, max_new_tokens):\n",
        "    # idx is (B, T) array of indices in the current context\n",
        "    for _ in range(max_new_tokens):\n",
        "      ## crop idx up to block_size\n",
        "      idx_cond = idx[:, -block_size:]\n",
        "      # get the predictions\n",
        "      logits, loss = self(idx_cond)\n",
        "      probs = F.softmax(logits, dim=-1)\n",
        "      idx_next = torch.multinomial(probs, num_samples=1) # (B, 1)\n",
        "      idx = torch.cat((idx, idx_next), dim=1) # (B, T+1)\n",
        "    return idx\n",
        "\n",
        "model = BigramLanguageModel()\n",
        "m = model.to(device)\n",
        "learning_rate = 1e-3\n",
        "max_iters = 5000\n",
        "\n",
        "optimizer = torch.optim.AdamW(model.parameters(), lr=1e-3)\n",
        "for iter in range(max_iters):\n",
        "  ## sample a batch of data\n",
        "  ## estimate loss for each eval_interval\n",
        "  if iter % eval_interval == 0:\n",
        "    losses = estimate_loss()\n",
        "    print(f\"step: {iter}, train loss: {losses['train']}, val loss: {losses['val']}\")\n",
        "  xb, yb = get_batch('train')\n",
        "\n",
        "  ## evaluate the loss\n",
        "  logits, loss = m(xb, yb)\n",
        "  ## cleaning up previous gradients\n",
        "  optimizer.zero_grad(set_to_none=True)\n",
        "  loss.backward()\n",
        "  optimizer.step()\n",
        "  ##print(loss.item()) ## use averaged loss per eval_interval to get a smoother result\n",
        "\n",
        "\n",
        "\n",
        "\n"
      ],
      "metadata": {
        "colab": {
          "base_uri": "https://localhost:8080/"
        },
        "id": "q90K6fdwfZxZ",
        "outputId": "abc38c84-d3a0-4145-edbd-6f8089c18223"
      },
      "execution_count": 87,
      "outputs": [
        {
          "output_type": "stream",
          "name": "stdout",
          "text": [
            "step: 0, train loss: 4.446019172668457, val loss: 4.459233283996582\n",
            "step: 300, train loss: 2.888965368270874, val loss: 2.9028170108795166\n",
            "step: 600, train loss: 2.7008557319641113, val loss: 2.7144293785095215\n",
            "step: 900, train loss: 2.6095917224884033, val loss: 2.630202531814575\n",
            "step: 1200, train loss: 2.579555034637451, val loss: 2.5711798667907715\n",
            "step: 1500, train loss: 2.546095848083496, val loss: 2.5442676544189453\n",
            "step: 1800, train loss: 2.536454916000366, val loss: 2.5312230587005615\n",
            "step: 2100, train loss: 2.5246574878692627, val loss: 2.5161097049713135\n",
            "step: 2400, train loss: 2.501429796218872, val loss: 2.5197532176971436\n",
            "step: 2700, train loss: 2.5072567462921143, val loss: 2.519226312637329\n",
            "step: 3000, train loss: 2.4890663623809814, val loss: 2.5058083534240723\n",
            "step: 3300, train loss: 2.5023276805877686, val loss: 2.498231887817383\n",
            "step: 3600, train loss: 2.496242046356201, val loss: 2.508150100708008\n",
            "step: 3900, train loss: 2.4874062538146973, val loss: 2.5007715225219727\n",
            "step: 4200, train loss: 2.4779579639434814, val loss: 2.500491142272949\n",
            "step: 4500, train loss: 2.483081579208374, val loss: 2.497504234313965\n",
            "step: 4800, train loss: 2.4808661937713623, val loss: 2.4953548908233643\n"
          ]
        }
      ]
    },
    {
      "cell_type": "code",
      "source": [
        "## MultiHead attention added\n",
        "\n",
        "class MultiHeadAttention(nn.Module):\n",
        "  \"\"\"multiple heads of self-attention in parallel\"\"\"\n",
        "  def __init__(self, num_heads, head_size):\n",
        "    super().__init__()\n",
        "    self.heads = nn.ModuleList([Head(head_size) for _ in range(num_heads)])\n",
        "    self.proj = nn.Linear(num_heads * head_size, n_embed)\n",
        "\n",
        "  def forward(self, x):\n",
        "    out = torch.cat([h(x) for h in self.heads], dim=-1)\n",
        "    out = self.proj(out)\n",
        "    return out\n",
        "\n",
        "class BigramLanguageModel(nn.Module):\n",
        "\n",
        "  def __init__(self):\n",
        "    super().__init__()\n",
        "    self.token_embedding_table = nn.Embedding(vocab_size, n_embed)\n",
        "    self.position_embedding_table = nn.Embedding(block_size, n_embed)\n",
        "    self.sa_heads = MultiHeadAttention(4, n_embed//4) ## 4 heads of 8-dimensional self-attention\n",
        "    self.lm_head = nn.Linear(n_embed, vocab_size)\n",
        "\n",
        "  def forward(self, idx, targets=None):\n",
        "    B, T = idx.shape\n",
        "    tok_embed = self.token_embedding_table(idx) # (B,T,C)\n",
        "    pos_emb = self.position_embedding_table(torch.arange(T, device=device))\n",
        "    x = tok_embed + pos_emb\n",
        "    x= self.sa_heads(x)\n",
        "    logits = self.lm_head(x) # (B,T,vocab_size)\n",
        "\n",
        "    if targets is None:\n",
        "      loss = None\n",
        "    else:\n",
        "      B, T, C = logits.shape\n",
        "      logits = logits.view(B*T, C)\n",
        "      targets = targets.view(B*T) # Correctly reshape targets to (B*T,)\n",
        "      loss = F.cross_entropy(logits, targets)\n",
        "\n",
        "    return logits, loss\n",
        "\n",
        "  def generate(self, idx, max_new_tokens):\n",
        "    # idx is (B, T) array of indices in the current context\n",
        "    for _ in range(max_new_tokens):\n",
        "      ## crop idx up to block_size\n",
        "      idx_cond = idx[:, -block_size:]\n",
        "      # get the predictions\n",
        "      logits, loss = self(idx_cond)\n",
        "      # focus only on the last time step\n",
        "      logits = logits[:, -1, :] # becomes (B, C), here only 1 previous token is used, history is skipped\n",
        "      probs = F.softmax(logits, dim=-1)\n",
        "      idx_next = torch.multinomial(probs, num_samples=1) # (B, 1)\n",
        "      idx = torch.cat((idx, idx_next), dim=1) # (B, T+1)\n",
        "    return idx\n",
        "\n",
        "model = BigramLanguageModel()\n",
        "m = model.to(device)\n",
        "learning_rate = 1e-3\n",
        "max_iters = 5000\n",
        "\n",
        "optimizer = torch.optim.AdamW(model.parameters(), lr=1e-3)\n",
        "for iter in range(max_iters):\n",
        "  ## sample a batch of data\n",
        "  ## estimate loss for each eval_interval\n",
        "  if iter % eval_interval == 0:\n",
        "    losses = estimate_loss()\n",
        "    print(f\"step: {iter}, train loss: {losses['train']}, val loss: {losses['val']}\")\n",
        "  xb, yb = get_batch('train')\n",
        "\n",
        "  ## evaluate the loss\n",
        "  logits, loss = m(xb, yb)\n",
        "  ## cleaning up previous gradients\n",
        "  optimizer.zero_grad(set_to_none=True)\n",
        "  loss.backward()\n",
        "  optimizer.step()\n",
        "  ##print(loss.item()) ## use averaged loss per eval_interval to get a smoother result"
      ],
      "metadata": {
        "colab": {
          "base_uri": "https://localhost:8080/"
        },
        "id": "tv2pCxvvwGUW",
        "outputId": "46c21211-2b4f-421e-9ae5-76b496edfa68"
      },
      "execution_count": 91,
      "outputs": [
        {
          "output_type": "stream",
          "name": "stdout",
          "text": [
            "step: 0, train loss: 4.192660808563232, val loss: 4.192004203796387\n",
            "step: 300, train loss: 2.770993232727051, val loss: 2.763517379760742\n",
            "step: 600, train loss: 2.566837787628174, val loss: 2.5650320053100586\n",
            "step: 900, train loss: 2.515684127807617, val loss: 2.4957964420318604\n",
            "step: 1200, train loss: 2.4539873600006104, val loss: 2.449890375137329\n",
            "step: 1500, train loss: 2.3994812965393066, val loss: 2.4090819358825684\n",
            "step: 1800, train loss: 2.3737523555755615, val loss: 2.3874008655548096\n",
            "step: 2100, train loss: 2.3588593006134033, val loss: 2.362799882888794\n",
            "step: 2400, train loss: 2.3249499797821045, val loss: 2.343980073928833\n",
            "step: 2700, train loss: 2.3266706466674805, val loss: 2.321322441101074\n",
            "step: 3000, train loss: 2.3215415477752686, val loss: 2.3130979537963867\n",
            "step: 3300, train loss: 2.305401563644409, val loss: 2.3072428703308105\n",
            "step: 3600, train loss: 2.2943613529205322, val loss: 2.304673671722412\n",
            "step: 3900, train loss: 2.280968189239502, val loss: 2.2885541915893555\n",
            "step: 4200, train loss: 2.2735207080841064, val loss: 2.2905020713806152\n",
            "step: 4500, train loss: 2.263622999191284, val loss: 2.2836906909942627\n",
            "step: 4800, train loss: 2.260554313659668, val loss: 2.283198118209839\n"
          ]
        }
      ]
    },
    {
      "cell_type": "code",
      "source": [
        "## Position wise feed forward networks FFN(x) = max(0,xW1+b1)W2 + b2\n",
        "## a single layer nn after self attention, think individually after self attention\n",
        "class FeedForward(nn.Module):\n",
        "  def __init__(self, n_embed):\n",
        "    super().__init__()\n",
        "    self.net = nn.Sequential(\n",
        "        nn.Linear(n_embed, 4 * n_embed),\n",
        "        nn.ReLU(),\n",
        "        nn.Linear(4 * n_embed, n_embed))\n",
        "  def forward(self, x):\n",
        "    return self.net(x)\n",
        "\n",
        "class BigramLanguageModel(nn.Module):\n",
        "\n",
        "  def __init__(self):\n",
        "    super().__init__()\n",
        "    self.token_embedding_table = nn.Embedding(vocab_size, n_embed)\n",
        "    self.position_embedding_table = nn.Embedding(block_size, n_embed)\n",
        "    self.sa_heads = MultiHeadAttention(4, n_embed//4) ## 4 heads of 8-dimensional self-attention\n",
        "    self.lm_head = nn.Linear(n_embed, vocab_size)\n",
        "    self.ffwd = FeedForward(n_embed)\n",
        "\n",
        "  def forward(self, idx, targets=None):\n",
        "    B, T = idx.shape\n",
        "    tok_embed = self.token_embedding_table(idx) # (B,T,C)\n",
        "    pos_emb = self.position_embedding_table(torch.arange(T, device=device))\n",
        "    x = tok_embed + pos_emb\n",
        "    x = self.ffwd(x)\n",
        "    x= self.sa_heads(x)\n",
        "    logits = self.lm_head(x) # (B,T,vocab_size)\n",
        "\n",
        "    if targets is None:\n",
        "      loss = None\n",
        "    else:\n",
        "      B, T, C = logits.shape\n",
        "      logits = logits.view(B*T, C)\n",
        "      targets = targets.view(B*T) # Correctly reshape targets to (B*T,)\n",
        "      loss = F.cross_entropy(logits, targets)\n",
        "\n",
        "    return logits, loss\n",
        "\n",
        "  def generate(self, idx, max_new_tokens):\n",
        "    # idx is (B, T) array of indices in the current context\n",
        "    for _ in range(max_new_tokens):\n",
        "      ## crop idx up to block_size\n",
        "      idx_cond = idx[:, -block_size:]\n",
        "      # get the predictions\n",
        "      logits, loss = self(idx_cond)\n",
        "      # focus only on the last time step\n",
        "      logits = logits[:, -1, :] # becomes (B, C), here only 1 previous token is used, history is skipped\n",
        "      probs = F.softmax(logits, dim=-1)\n",
        "      idx_next = torch.multinomial(probs, num_samples=1) # (B, 1)\n",
        "      idx = torch.cat((idx, idx_next), dim=1) # (B, T+1)\n",
        "    return idx\n",
        "\n",
        "model = BigramLanguageModel()\n",
        "m = model.to(device)\n",
        "learning_rate = 1e-3\n",
        "max_iters = 5000\n",
        "\n",
        "optimizer = torch.optim.AdamW(model.parameters(), lr=1e-3)\n",
        "for iter in range(max_iters):\n",
        "  ## sample a batch of data\n",
        "  ## estimate loss for each eval_interval\n",
        "  if iter % eval_interval == 0:\n",
        "    losses = estimate_loss()\n",
        "    print(f\"step: {iter}, train loss: {losses['train']}, val loss: {losses['val']}\")\n",
        "  xb, yb = get_batch('train')\n",
        "\n",
        "  ## evaluate the loss\n",
        "  logits, loss = m(xb, yb)\n",
        "  ## cleaning up previous gradients\n",
        "  optimizer.zero_grad(set_to_none=True)\n",
        "  loss.backward()\n",
        "  optimizer.step()\n",
        "  ##print(loss.item()) ## use averaged loss per eval_interval to get a smoother result"
      ],
      "metadata": {
        "colab": {
          "base_uri": "https://localhost:8080/"
        },
        "id": "LBZ5qtEi0_UA",
        "outputId": "5dde732d-e1e6-4648-f2f3-bae9fac66ab7"
      },
      "execution_count": 93,
      "outputs": [
        {
          "output_type": "stream",
          "name": "stdout",
          "text": [
            "step: 0, train loss: 4.187022686004639, val loss: 4.186731338500977\n",
            "step: 300, train loss: 2.688169002532959, val loss: 2.696760892868042\n",
            "step: 600, train loss: 2.5288286209106445, val loss: 2.5361242294311523\n",
            "step: 900, train loss: 2.458847999572754, val loss: 2.474306106567383\n",
            "step: 1200, train loss: 2.434736967086792, val loss: 2.446643590927124\n",
            "step: 1500, train loss: 2.399184465408325, val loss: 2.4020230770111084\n",
            "step: 1800, train loss: 2.373915195465088, val loss: 2.3823931217193604\n",
            "step: 2100, train loss: 2.3378641605377197, val loss: 2.346947431564331\n",
            "step: 2400, train loss: 2.3180346488952637, val loss: 2.3448452949523926\n",
            "step: 2700, train loss: 2.3038628101348877, val loss: 2.3283541202545166\n",
            "step: 3000, train loss: 2.3079612255096436, val loss: 2.307527542114258\n",
            "step: 3300, train loss: 2.279653549194336, val loss: 2.3040473461151123\n",
            "step: 3600, train loss: 2.2823243141174316, val loss: 2.288362979888916\n",
            "step: 3900, train loss: 2.276033639907837, val loss: 2.294891595840454\n",
            "step: 4200, train loss: 2.2659380435943604, val loss: 2.3072562217712402\n",
            "step: 4500, train loss: 2.255200147628784, val loss: 2.2753729820251465\n",
            "step: 4800, train loss: 2.243274688720703, val loss: 2.2722089290618896\n"
          ]
        }
      ]
    },
    {
      "cell_type": "code",
      "source": [
        "## creating transformer block: communication followed by computation\n",
        "\n",
        "## MultiHead attention added\n",
        "\n",
        "class Block(nn.Module):\n",
        "  def __init__(self, n_embed, n_head):\n",
        "    super().__init__()\n",
        "    head_size = n_embed // n_head\n",
        "    self.sa = MultiHeadAttention(n_head, head_size)\n",
        "    self.ffwd = FeedForward(n_embed)\n",
        "\n",
        "  def forward(self, x):\n",
        "    x = self.sa(x)\n",
        "    x = self.ffwd(x)\n",
        "    return x\n",
        "\n",
        "class BigramLanguageModel(nn.Module):\n",
        "\n",
        "  def __init__(self):\n",
        "    super().__init__()\n",
        "    self.token_embedding_table = nn.Embedding(vocab_size, n_embed)\n",
        "    self.position_embedding_table = nn.Embedding(block_size, n_embed)\n",
        "    self.blocks = nn.Sequential(\n",
        "        Block(n_embed, n_head=4),\n",
        "        Block(n_embed, n_head=4),\n",
        "        Block(n_embed, n_head=4),\n",
        "        nn.LayerNorm(n_embed))\n",
        "    self.lm_head = nn.Linear(n_embed, vocab_size)\n",
        "\n",
        "  def forward(self, idx, targets=None):\n",
        "    B, T = idx.shape\n",
        "    tok_embed = self.token_embedding_table(idx) # (B,T,C)\n",
        "    pos_emb = self.position_embedding_table(torch.arange(T, device=device))\n",
        "    x = tok_embed + pos_emb\n",
        "    x = self.blocks(x)\n",
        "    logits = self.lm_head(x) # (B,T,vocab_size)\n",
        "\n",
        "    if targets is None:\n",
        "      loss = None\n",
        "    else:\n",
        "      B, T, C = logits.shape\n",
        "      logits = logits.view(B*T, C)\n",
        "      targets = targets.view(B*T) # Correctly reshape targets to (B*T,)\n",
        "      loss = F.cross_entropy(logits, targets)\n",
        "\n",
        "    return logits, loss\n",
        "\n",
        "  def generate(self, idx, max_new_tokens):\n",
        "    # idx is (B, T) array of indices in the current context\n",
        "    for _ in range(max_new_tokens):\n",
        "      ## crop idx up to block_size\n",
        "      idx_cond = idx[:, -block_size:]\n",
        "      # get the predictions\n",
        "      logits, loss = self(idx_cond)\n",
        "      # focus only on the last time step\n",
        "      logits = logits[:, -1, :] # becomes (B, C), here only 1 previous token is used, history is skipped\n",
        "      probs = F.softmax(logits, dim=-1)\n",
        "      idx_next = torch.multinomial(probs, num_samples=1) # (B, 1)\n",
        "      idx = torch.cat((idx, idx_next), dim=1) # (B, T+1)\n",
        "    return idx\n",
        "\n",
        "model = BigramLanguageModel()\n",
        "m = model.to(device)\n",
        "learning_rate = 1e-3\n",
        "max_iters = 5000\n",
        "\n",
        "optimizer = torch.optim.AdamW(model.parameters(), lr=1e-3)\n",
        "for iter in range(max_iters):\n",
        "  ## sample a batch of data\n",
        "  ## estimate loss for each eval_interval\n",
        "  if iter % eval_interval == 0:\n",
        "    losses = estimate_loss()\n",
        "    print(f\"step: {iter}, train loss: {losses['train']}, val loss: {losses['val']}\")\n",
        "  xb, yb = get_batch('train')\n",
        "\n",
        "  ## evaluate the loss\n",
        "  logits, loss = m(xb, yb)\n",
        "  ## cleaning up previous gradients\n",
        "  optimizer.zero_grad(set_to_none=True)\n",
        "  loss.backward()\n",
        "  optimizer.step()\n",
        "  ## this sucks (2.26 > 2.24) because right now our NN is too deep, can be optimized by residual layers\n",
        "  ## layer 0 -> layer 1 -> layer 2\n",
        "  ## layer 0  -------------> layer 2\n",
        "  ## highway of optimization\n",
        "  ## print(loss.item()) ## use averaged loss per eval_interval to get a smoother result"
      ],
      "metadata": {
        "colab": {
          "base_uri": "https://localhost:8080/"
        },
        "id": "o4QG_USx2_69",
        "outputId": "54724a6f-d056-4784-ca70-17e2d6250c00"
      },
      "execution_count": 97,
      "outputs": [
        {
          "output_type": "stream",
          "name": "stdout",
          "text": [
            "step: 0, train loss: 4.263692855834961, val loss: 4.267703056335449\n",
            "step: 300, train loss: 3.005568504333496, val loss: 3.010251998901367\n",
            "step: 600, train loss: 2.742722749710083, val loss: 2.736342430114746\n",
            "step: 900, train loss: 2.6608428955078125, val loss: 2.6547176837921143\n",
            "step: 1200, train loss: 2.5742480754852295, val loss: 2.5712430477142334\n",
            "step: 1500, train loss: 2.5232956409454346, val loss: 2.5176498889923096\n",
            "step: 1800, train loss: 2.4892380237579346, val loss: 2.474663496017456\n",
            "step: 2100, train loss: 2.428285598754883, val loss: 2.4384818077087402\n",
            "step: 2400, train loss: 2.400010108947754, val loss: 2.4020473957061768\n",
            "step: 2700, train loss: 2.3722848892211914, val loss: 2.3745193481445312\n",
            "step: 3000, train loss: 2.349698543548584, val loss: 2.3584654331207275\n",
            "step: 3300, train loss: 2.326295852661133, val loss: 2.3251519203186035\n",
            "step: 3600, train loss: 2.3275749683380127, val loss: 2.319545269012451\n",
            "step: 3900, train loss: 2.291827440261841, val loss: 2.3123972415924072\n",
            "step: 4200, train loss: 2.270480155944824, val loss: 2.2840964794158936\n",
            "step: 4500, train loss: 2.290487051010132, val loss: 2.315755844116211\n",
            "step: 4800, train loss: 2.249788284301758, val loss: 2.264601945877075\n"
          ]
        }
      ]
    },
    {
      "cell_type": "code",
      "source": [
        "## Blocks with Residual Network\n",
        "\n",
        "class MultiHeadAttention(nn.Module):\n",
        "  \"\"\"multiple heads of self-attention in parallel\"\"\"\n",
        "  def __init__(self, num_heads, head_size):\n",
        "    super().__init__()\n",
        "    self.heads = nn.ModuleList([Head(head_size) for _ in range(num_heads)])\n",
        "    self.proj = nn.Linear(n_embed, n_embed)\n",
        "\n",
        "  def forward(self, x):\n",
        "    out = torch.cat([h(x) for h in self.heads], dim=-1)\n",
        "    out = self.proj(out)\n",
        "    return out\n",
        "\n",
        "class Block(nn.Module):\n",
        "  def __init__(self, n_embed, n_head):\n",
        "    super().__init__()\n",
        "    head_size = n_embed // n_head\n",
        "    self.sa = MultiHeadAttention(n_head, head_size)\n",
        "    self.ffwd = FeedForward(n_embed)\n",
        "\n",
        "  def forward(self, x):\n",
        "    ##x = self.sa(x)\n",
        "    x = x + self.sa(x)\n",
        "    ##x = self.ffwd(x)\n",
        "    x = x + self.ffwd(x)\n",
        "    return x\n",
        "\n",
        "class BigramLanguageModel(nn.Module):\n",
        "\n",
        "  def __init__(self):\n",
        "    super().__init__()\n",
        "    self.token_embedding_table = nn.Embedding(vocab_size, n_embed)\n",
        "    self.position_embedding_table = nn.Embedding(block_size, n_embed)\n",
        "    self.blocks = nn.Sequential(\n",
        "        Block(n_embed, n_head=4),\n",
        "        Block(n_embed, n_head=4),\n",
        "        Block(n_embed, n_head=4),\n",
        "        nn.LayerNorm(n_embed))\n",
        "    self.lm_head = nn.Linear(n_embed, vocab_size)\n",
        "\n",
        "  def forward(self, idx, targets=None):\n",
        "    B, T = idx.shape\n",
        "    tok_embed = self.token_embedding_table(idx) # (B,T,C)\n",
        "    pos_emb = self.position_embedding_table(torch.arange(T, device=device))\n",
        "    x = tok_embed + pos_emb\n",
        "    x = self.blocks(x)\n",
        "    logits = self.lm_head(x) # (B,T,vocab_size)\n",
        "\n",
        "    if targets is None:\n",
        "      loss = None\n",
        "    else:\n",
        "      B, T, C = logits.shape\n",
        "      logits = logits.view(B*T, C)\n",
        "      targets = targets.view(B*T) # Correctly reshape targets to (B*T,)\n",
        "      loss = F.cross_entropy(logits, targets)\n",
        "\n",
        "    return logits, loss\n",
        "\n",
        "  def generate(self, idx, max_new_tokens):\n",
        "    # idx is (B, T) array of indices in the current context\n",
        "    for _ in range(max_new_tokens):\n",
        "      ## crop idx up to block_size\n",
        "      idx_cond = idx[:, -block_size:]\n",
        "      # get the predictions\n",
        "      logits, loss = self(idx_cond)\n",
        "      # focus only on the last time step\n",
        "      logits = logits[:, -1, :] # becomes (B, C), here only 1 previous token is used, history is skipped\n",
        "      probs = F.softmax(logits, dim=-1)\n",
        "      idx_next = torch.multinomial(probs, num_samples=1) # (B, 1)\n",
        "      idx = torch.cat((idx, idx_next), dim=1) # (B, T+1)\n",
        "    return idx\n",
        "\n",
        "model = BigramLanguageModel()\n",
        "m = model.to(device)\n",
        "learning_rate = 1e-3\n",
        "max_iters = 5000\n",
        "\n",
        "optimizer = torch.optim.AdamW(model.parameters(), lr=1e-3)\n",
        "for iter in range(max_iters):\n",
        "  ## sample a batch of data\n",
        "  ## estimate loss for each eval_interval\n",
        "  if iter % eval_interval == 0:\n",
        "    losses = estimate_loss()\n",
        "    print(f\"step: {iter}, train loss: {losses['train']}, val loss: {losses['val']}\")\n",
        "  xb, yb = get_batch('train')\n",
        "\n",
        "  ## evaluate the loss\n",
        "  logits, loss = m(xb, yb)\n",
        "  ## cleaning up previous gradients\n",
        "  optimizer.zero_grad(set_to_none=True)\n",
        "  loss.backward()\n",
        "  optimizer.step()\n",
        "  ## loss reduces significantly to 1.98 thanks to residual network!\n",
        "\n"
      ],
      "metadata": {
        "colab": {
          "base_uri": "https://localhost:8080/"
        },
        "id": "SkgNIB6C47KT",
        "outputId": "62cfe261-5289-43c8-d13b-81dc46e3ddd7"
      },
      "execution_count": 98,
      "outputs": [
        {
          "output_type": "stream",
          "name": "stdout",
          "text": [
            "step: 0, train loss: 4.283599376678467, val loss: 4.283738613128662\n",
            "step: 300, train loss: 2.5266199111938477, val loss: 2.543529987335205\n",
            "step: 600, train loss: 2.377328634262085, val loss: 2.379370927810669\n",
            "step: 900, train loss: 2.2906618118286133, val loss: 2.3031249046325684\n",
            "step: 1200, train loss: 2.2347922325134277, val loss: 2.2503206729888916\n",
            "step: 1500, train loss: 2.1895906925201416, val loss: 2.214203119277954\n",
            "step: 1800, train loss: 2.1645877361297607, val loss: 2.186835527420044\n",
            "step: 2100, train loss: 2.1245453357696533, val loss: 2.178359031677246\n",
            "step: 2400, train loss: 2.1083948612213135, val loss: 2.152254581451416\n",
            "step: 2700, train loss: 2.0861928462982178, val loss: 2.1210081577301025\n",
            "step: 3000, train loss: 2.06648588180542, val loss: 2.1313681602478027\n",
            "step: 3300, train loss: 2.0594794750213623, val loss: 2.112713098526001\n",
            "step: 3600, train loss: 2.048938274383545, val loss: 2.106736660003662\n",
            "step: 3900, train loss: 2.036045789718628, val loss: 2.100717544555664\n",
            "step: 4200, train loss: 2.0214037895202637, val loss: 2.109349250793457\n",
            "step: 4500, train loss: 2.0116965770721436, val loss: 2.0991086959838867\n",
            "step: 4800, train loss: 1.9870214462280273, val loss: 2.0845155715942383\n"
          ]
        }
      ]
    },
    {
      "cell_type": "code",
      "source": [
        "decode(m.generate(idx = torch.zeros((1, 1), dtype=torch.long), max_new_tokens=100)[0].tolist())\n",
        "## we see that some real words such as \"Your\" and \"the\" right now!"
      ],
      "metadata": {
        "colab": {
          "base_uri": "https://localhost:8080/",
          "height": 35
        },
        "id": "o7nptada-FuE",
        "outputId": "964ff967-00a5-4146-eca3-cb5158cefce0"
      },
      "execution_count": 99,
      "outputs": [
        {
          "output_type": "execute_result",
          "data": {
            "text/plain": [
              "'\\nTo chame truag\\nAnd wift scroter. Lorddiend your!\\nFor ever Vear, nast.\\n\\nDULINIENE:\\nYour hight, the by'"
            ],
            "application/vnd.google.colaboratory.intrinsic+json": {
              "type": "string"
            }
          },
          "metadata": {},
          "execution_count": 99
        }
      ]
    },
    {
      "cell_type": "code",
      "source": [
        "## LayerNorm, very similar to batch norm\n",
        "## making sure that across batch dimension, any individual neuron\n",
        "## unit gaussian distribution, 0 1std, 2std ...\n",
        "\n",
        "class BatchNorm1d:\n",
        "  def __init__(self, dim, eps=1e-5, momentum=0.1):\n",
        "    self.eps = eps\n",
        "    ##self.momentum = momentum\n",
        "    ##self.training = True\n",
        "    # parameters (trained with backprop)\n",
        "    self.gamma = torch.ones(dim)\n",
        "    self.beta = torch.zeros(dim)\n",
        "    ##self.running_mean = torch.zeros(dim)\n",
        "    ##self.running_var = torch.ones(dim)\n",
        "\n",
        "  def __call__(self, x):\n",
        "    ## calculate the forward pass\n",
        "    ## 1 for normalizing row and 0 for normalizing column\n",
        "    ##if self.training:\n",
        "      ##xmean = x.mean(1, keepdim=True) # batch mean\n",
        "      ##xvar = x.var(1, keepdim=True) # batch variance\n",
        "    xmean = x.mean(1, keepdim=True)\n",
        "    xvar = x.var(1, keepdim=True)\n",
        "    ##else:\n",
        "      ##xmean = self.running_mean\n",
        "      ##xvar = self.running_var\n",
        "    xhat = (x - xmean) / torch.sqrt(xvar + self.eps) # normalize to unit variance\n",
        "    self.out = self.gamma * xhat + self.beta\n",
        "    ## update the buffers\n",
        "    ##if self.training:\n",
        "      ##with torch.no_grad():\n",
        "        ##self.running_mean = (1 - self.momentum) * self.running_mean + self.momentum * xmean\n",
        "        ##self.running_var = (1- self.momentum) * self.running_var + self.momentum * xvar\n",
        "    return self.out\n",
        "\n",
        "  def parameters(self):\n",
        "    return [self.gamma, self.beta]\n",
        "\n",
        "torch.manual_seed(1337)\n",
        "module = BatchNorm1d(100)\n",
        "x = torch.randn(32, 100) # batch size 32 of 100-dimensional vectors\n",
        "x = module(x)\n",
        "x.shape\n",
        "\n",
        "\n",
        ""
      ],
      "metadata": {
        "colab": {
          "base_uri": "https://localhost:8080/"
        },
        "id": "n8sohMLH-Xos",
        "outputId": "525513a6-93c2-431d-bbed-7225d2c65cbd"
      },
      "execution_count": 108,
      "outputs": [
        {
          "output_type": "execute_result",
          "data": {
            "text/plain": [
              "torch.Size([32, 100])"
            ]
          },
          "metadata": {},
          "execution_count": 108
        }
      ]
    },
    {
      "cell_type": "code",
      "source": [
        "x[0,:].mean(), x[0,:].std()"
      ],
      "metadata": {
        "colab": {
          "base_uri": "https://localhost:8080/"
        },
        "id": "LnqFx7dRAJ6g",
        "outputId": "5e2ebe11-3fd3-406e-f31f-95b29e875184"
      },
      "execution_count": 109,
      "outputs": [
        {
          "output_type": "execute_result",
          "data": {
            "text/plain": [
              "(tensor(-9.5367e-09), tensor(1.0000))"
            ]
          },
          "metadata": {},
          "execution_count": 109
        }
      ]
    },
    {
      "cell_type": "code",
      "source": [
        "class Block(nn.Module):\n",
        "  def __init__(self, n_embed, n_head):\n",
        "    super().__init__()\n",
        "    head_size = n_embed // n_head\n",
        "    self.sa = MultiHeadAttention(n_head, head_size)\n",
        "    self.ffwd = FeedForward(n_embed)\n",
        "    self.ln1 = nn.LayerNorm(n_embed)\n",
        "    self.ln2 = nn.LayerNorm(n_embed)\n",
        "\n",
        "  def forward(self, x):\n",
        "    ##x = self.sa(x)\n",
        "    x = x + self.sa(self.ln1(x))\n",
        "    ##x = self.ffwd(x)\n",
        "    x = x + self.ffwd(self.ln2(x))\n",
        "    return x\n",
        "class BigramLanguageModel(nn.Module):\n",
        "\n",
        "  def __init__(self):\n",
        "    super().__init__()\n",
        "    self.token_embedding_table = nn.Embedding(vocab_size, n_embed)\n",
        "    self.position_embedding_table = nn.Embedding(block_size, n_embed)\n",
        "    self.blocks = nn.Sequential(\n",
        "        Block(n_embed, n_head=4),\n",
        "        Block(n_embed, n_head=4),\n",
        "        Block(n_embed, n_head=4),\n",
        "        nn.LayerNorm(n_embed))\n",
        "    self.lm_head = nn.Linear(n_embed, vocab_size)\n",
        "\n",
        "  def forward(self, idx, targets=None):\n",
        "    B, T = idx.shape\n",
        "    tok_embed = self.token_embedding_table(idx) # (B,T,C)\n",
        "    pos_emb = self.position_embedding_table(torch.arange(T, device=device))\n",
        "    x = tok_embed + pos_emb\n",
        "    x = self.blocks(x)\n",
        "    logits = self.lm_head(x) # (B,T,vocab_size)\n",
        "\n",
        "    if targets is None:\n",
        "      loss = None\n",
        "    else:\n",
        "      B, T, C = logits.shape\n",
        "      logits = logits.view(B*T, C)\n",
        "      targets = targets.view(B*T) # Correctly reshape targets to (B*T,)\n",
        "      loss = F.cross_entropy(logits, targets)\n",
        "\n",
        "    return logits, loss\n",
        "\n",
        "  def generate(self, idx, max_new_tokens):\n",
        "    # idx is (B, T) array of indices in the current context\n",
        "    for _ in range(max_new_tokens):\n",
        "      ## crop idx up to block_size\n",
        "      idx_cond = idx[:, -block_size:]\n",
        "      # get the predictions\n",
        "      logits, loss = self(idx_cond)\n",
        "      # focus only on the last time step\n",
        "      logits = logits[:, -1, :] # becomes (B, C), here only 1 previous token is used, history is skipped\n",
        "      probs = F.softmax(logits, dim=-1)\n",
        "      idx_next = torch.multinomial(probs, num_samples=1) # (B, 1)\n",
        "      idx = torch.cat((idx, idx_next), dim=1) # (B, T+1)\n",
        "    return idx\n",
        "\n",
        "model = BigramLanguageModel()\n",
        "m = model.to(device)\n",
        "learning_rate = 1e-3\n",
        "max_iters = 5000\n",
        "\n",
        "optimizer = torch.optim.AdamW(model.parameters(), lr=1e-3)\n",
        "for iter in range(max_iters):\n",
        "  ## sample a batch of data\n",
        "  ## estimate loss for each eval_interval\n",
        "  if iter % eval_interval == 0:\n",
        "    losses = estimate_loss()\n",
        "    print(f\"step: {iter}, train loss: {losses['train']}, val loss: {losses['val']}\")\n",
        "  xb, yb = get_batch('train')\n",
        "\n",
        "  ## evaluate the loss\n",
        "  logits, loss = m(xb, yb)\n",
        "  ## cleaning up previous gradients\n",
        "  optimizer.zero_grad(set_to_none=True)\n",
        "  loss.backward()\n",
        "  optimizer.step()\n",
        "\n"
      ],
      "metadata": {
        "colab": {
          "base_uri": "https://localhost:8080/"
        },
        "id": "bt5N4y-iASDl",
        "outputId": "b4c162b1-e6c1-457c-b65d-f2ec176ca638"
      },
      "execution_count": 110,
      "outputs": [
        {
          "output_type": "stream",
          "name": "stdout",
          "text": [
            "step: 0, train loss: 4.379400253295898, val loss: 4.377382755279541\n",
            "step: 300, train loss: 2.5497701168060303, val loss: 2.5449483394622803\n",
            "step: 600, train loss: 2.391538143157959, val loss: 2.3754067420959473\n",
            "step: 900, train loss: 2.3018839359283447, val loss: 2.3005971908569336\n",
            "step: 1200, train loss: 2.228256940841675, val loss: 2.264866352081299\n",
            "step: 1500, train loss: 2.202476978302002, val loss: 2.2245471477508545\n",
            "step: 1800, train loss: 2.1606202125549316, val loss: 2.1865651607513428\n",
            "step: 2100, train loss: 2.143864393234253, val loss: 2.1705808639526367\n",
            "step: 2400, train loss: 2.1226892471313477, val loss: 2.157665491104126\n",
            "step: 2700, train loss: 2.109161615371704, val loss: 2.1337807178497314\n",
            "step: 3000, train loss: 2.080789089202881, val loss: 2.115238904953003\n",
            "step: 3300, train loss: 2.068002700805664, val loss: 2.121767997741699\n",
            "step: 3600, train loss: 2.0523927211761475, val loss: 2.1015748977661133\n",
            "step: 3900, train loss: 2.037473440170288, val loss: 2.1004788875579834\n",
            "step: 4200, train loss: 2.0158321857452393, val loss: 2.0710320472717285\n",
            "step: 4500, train loss: 2.0250284671783447, val loss: 2.077676296234131\n",
            "step: 4800, train loss: 1.980521559715271, val loss: 2.0947165489196777\n"
          ]
        }
      ]
    },
    {
      "cell_type": "code",
      "source": [
        "## now we have all components of a transformer, but let's scale it up!\n"
      ],
      "metadata": {
        "id": "pDnUTINDD00r"
      },
      "execution_count": 111,
      "outputs": []
    },
    {
      "cell_type": "code",
      "source": [
        "dropout = 0.2\n",
        "n_layer = 6\n",
        "batch_size = 64\n",
        "n_embed = 384\n",
        "block_size = 256\n",
        "learning_rate = 3e-4\n",
        "max_iters = 5000\n",
        "eval_interval = 500\n",
        "n_head = 6\n",
        "#### Don't run it on cpu, you need gpus!\n",
        "class Head(nn.Module):\n",
        "  \"\"\"one head of self-attention\"\"\"\n",
        "  def __init__(self, head_size):\n",
        "    super().__init__()\n",
        "    self.key = nn.Linear(n_embed, head_size, bias=False)\n",
        "    self.query = nn.Linear(n_embed, head_size, bias=False)\n",
        "    self.value = nn.Linear(n_embed, head_size, bias=False)\n",
        "    self.register_buffer('tril', torch.tril(torch.ones(block_size, block_size)))\n",
        "    self.dropout = nn.Dropout(dropout)\n",
        "\n",
        "  def forward(self, x):\n",
        "    B,T,C = x.shape\n",
        "    k = self.key(x) # (B,T,C)\n",
        "    q = self.query(x) # (B,T,C)\n",
        "    wei = q @ k.transpose(-2, -1) * C**-0.5 # (B, T, C) @ (B, C, T) ---> (B, T, T)\n",
        "    wei = wei.masked_fill(self.tril[:T, :T] == 0, float('-inf'))\n",
        "    wei = F.softmax(wei, dim=-1)\n",
        "    wei = self.dropout(wei)\n",
        "    v = self.value(x)\n",
        "    out = wei @ v\n",
        "    return out\n",
        "class MultiHeadAttention(nn.Module):\n",
        "  \"\"\"multiple heads of self-attention in parallel\"\"\"\n",
        "  def __init__(self, num_heads, head_size):\n",
        "    super().__init__()\n",
        "    self.heads = nn.ModuleList([Head(head_size) for _ in range(num_heads)])\n",
        "    self.proj = nn.Linear(n_embed, n_embed)\n",
        "    self.dropout = nn.Dropout(dropout)\n",
        "\n",
        "  def forward(self, x):\n",
        "    out = torch.cat([h(x) for h in self.heads], dim=-1)\n",
        "    out = self.proj(out)\n",
        "    return out\n",
        "\n",
        "class FeedForward(nn.Module):\n",
        "  def __init__(self, n_embed):\n",
        "    super().__init__()\n",
        "    self.net = nn.Sequential(\n",
        "        nn.Linear(n_embed, 4 * n_embed),\n",
        "        nn.ReLU(),\n",
        "        nn.Linear(4 * n_embed, n_embed),\n",
        "        nn.Dropout(dropout))\n",
        "  def forward(self, x):\n",
        "    return self.net(x)\n",
        "\n",
        "class Block(nn.Module):\n",
        "  def __init__(self, n_embed, n_head):\n",
        "    super().__init__()\n",
        "    head_size = n_embed // n_head\n",
        "    self.sa = MultiHeadAttention(n_head, head_size)\n",
        "    self.ffwd = FeedForward(n_embed)\n",
        "    self.ln1 = nn.LayerNorm(n_embed)\n",
        "    self.ln2 = nn.LayerNorm(n_embed)\n",
        "\n",
        "  def forward(self, x):\n",
        "    ##x = self.sa(x)\n",
        "    x = x + self.sa(self.ln1(x))\n",
        "    ##x = self.ffwd(x)\n",
        "    x = x + self.ffwd(self.ln2(x))\n",
        "    return x\n",
        "class BigramLanguageModel(nn.Module):\n",
        "\n",
        "  def __init__(self):\n",
        "    super().__init__()\n",
        "    self.token_embedding_table = nn.Embedding(vocab_size, n_embed)\n",
        "    self.position_embedding_table = nn.Embedding(block_size, n_embed)\n",
        "    self.blocks = nn.Sequential(*[Block(n_embed, n_head=n_head) for _ in range(n_layer)])\n",
        "    self.ln_f = nn.LayerNorm(n_embed)\n",
        "    self.lm_head = nn.Linear(n_embed, vocab_size)\n",
        "\n",
        "\n",
        "  def forward(self, idx, targets=None):\n",
        "    B, T = idx.shape\n",
        "    tok_embed = self.token_embedding_table(idx) # (B,T,C)\n",
        "    pos_emb = self.position_embedding_table(torch.arange(T, device=device))\n",
        "    x = tok_embed + pos_emb\n",
        "    x = self.blocks(x)\n",
        "    logits = self.lm_head(x) # (B,T,vocab_size)\n",
        "\n",
        "    if targets is None:\n",
        "      loss = None\n",
        "    else:\n",
        "      B, T, C = logits.shape\n",
        "      logits = logits.view(B*T, C)\n",
        "      targets = targets.view(B*T) # Correctly reshape targets to (B*T,)\n",
        "      loss = F.cross_entropy(logits, targets)\n",
        "\n",
        "    return logits, loss\n",
        "\n",
        "  def generate(self, idx, max_new_tokens):\n",
        "    # idx is (B, T) array of indices in the current context\n",
        "    for _ in range(max_new_tokens):\n",
        "      ## crop idx up to block_size\n",
        "      idx_cond = idx[:, -block_size:]\n",
        "      # get the predictions\n",
        "      logits, loss = self(idx_cond)\n",
        "      # focus only on the last time step\n",
        "      logits = logits[:, -1, :] # becomes (B, C), here only 1 previous token is used, history is skipped\n",
        "      probs = F.softmax(logits, dim=-1)\n",
        "      idx_next = torch.multinomial(probs, num_samples=1) # (B, 1)\n",
        "      idx = torch.cat((idx, idx_next), dim=1) # (B, T+1)\n",
        "    return idx\n",
        "\n",
        "model = BigramLanguageModel()\n",
        "m = model.to(device)\n",
        "learning_rate = 1e-3\n",
        "max_iters = 5000\n",
        "\n",
        "optimizer = torch.optim.AdamW(model.parameters(), lr=1e-3)\n",
        "for iter in range(max_iters):\n",
        "  ## sample a batch of data\n",
        "  ## estimate loss for each eval_interval\n",
        "  if iter % eval_interval == 0:\n",
        "    losses = estimate_loss()\n",
        "    print(f\"step: {iter}, train loss: {losses['train']}, val loss: {losses['val']}\")\n",
        "  xb, yb = get_batch('train')\n",
        "\n",
        "  ## evaluate the loss\n",
        "  logits, loss = m(xb, yb)\n",
        "  ## cleaning up previous gradients\n",
        "  optimizer.zero_grad(set_to_none=True)\n",
        "  loss.backward()\n",
        "  optimizer.step()"
      ],
      "metadata": {
        "id": "ahl3lUEOFDAZ"
      },
      "execution_count": null,
      "outputs": []
    }
  ]
}